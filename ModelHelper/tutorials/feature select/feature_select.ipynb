{
 "cells": [
  {
   "cell_type": "code",
   "execution_count": 1,
   "metadata": {
    "ExecuteTime": {
     "end_time": "2019-12-03T09:33:46.008299Z",
     "start_time": "2019-12-03T09:33:45.044770Z"
    }
   },
   "outputs": [],
   "source": [
    "import pandas as pd\n",
    "import numpy as np\n",
    "from datetime import datetime\n",
    "from sklearn.datasets import make_classification\n",
    "from sklearn.tree import DecisionTreeClassifier\n",
    "from sklearn.ensemble import RandomForestClassifier\n",
    "from lightgbm import LGBMClassifier\n",
    "from xgboost import XGBClassifier\n",
    "from sklearn.metrics import roc_auc_score"
   ]
  },
  {
   "cell_type": "code",
   "execution_count": 2,
   "metadata": {
    "ExecuteTime": {
     "end_time": "2019-12-03T09:33:46.225718Z",
     "start_time": "2019-12-03T09:33:46.010376Z"
    }
   },
   "outputs": [
    {
     "name": "stdout",
     "output_type": "stream",
     "text": [
      "df shape: (5000, 300)\n",
      "label:  [1 1 0 ... 1 1 0]\n"
     ]
    },
    {
     "data": {
      "text/html": [
       "<div>\n",
       "<style scoped>\n",
       "    .dataframe tbody tr th:only-of-type {\n",
       "        vertical-align: middle;\n",
       "    }\n",
       "\n",
       "    .dataframe tbody tr th {\n",
       "        vertical-align: top;\n",
       "    }\n",
       "\n",
       "    .dataframe thead th {\n",
       "        text-align: right;\n",
       "    }\n",
       "</style>\n",
       "<table border=\"1\" class=\"dataframe\">\n",
       "  <thead>\n",
       "    <tr style=\"text-align: right;\">\n",
       "      <th></th>\n",
       "      <th>f0</th>\n",
       "      <th>f1</th>\n",
       "      <th>f2</th>\n",
       "      <th>f3</th>\n",
       "      <th>f4</th>\n",
       "      <th>f5</th>\n",
       "      <th>f6</th>\n",
       "      <th>f7</th>\n",
       "      <th>f8</th>\n",
       "      <th>f9</th>\n",
       "      <th>...</th>\n",
       "      <th>f290</th>\n",
       "      <th>f291</th>\n",
       "      <th>f292</th>\n",
       "      <th>f293</th>\n",
       "      <th>f294</th>\n",
       "      <th>f295</th>\n",
       "      <th>f296</th>\n",
       "      <th>f297</th>\n",
       "      <th>f298</th>\n",
       "      <th>f299</th>\n",
       "    </tr>\n",
       "  </thead>\n",
       "  <tbody>\n",
       "    <tr>\n",
       "      <th>0</th>\n",
       "      <td>-0.994557</td>\n",
       "      <td>-1.136878</td>\n",
       "      <td>0.169768</td>\n",
       "      <td>0.768031</td>\n",
       "      <td>0.014296</td>\n",
       "      <td>0.524148</td>\n",
       "      <td>1.023236</td>\n",
       "      <td>-0.172799</td>\n",
       "      <td>0.012040</td>\n",
       "      <td>-0.310725</td>\n",
       "      <td>...</td>\n",
       "      <td>1.074111</td>\n",
       "      <td>-0.392414</td>\n",
       "      <td>-0.380007</td>\n",
       "      <td>1.463322</td>\n",
       "      <td>0.950080</td>\n",
       "      <td>-0.374694</td>\n",
       "      <td>0.024485</td>\n",
       "      <td>-0.036063</td>\n",
       "      <td>-0.910353</td>\n",
       "      <td>-0.137185</td>\n",
       "    </tr>\n",
       "    <tr>\n",
       "      <th>1</th>\n",
       "      <td>-0.601184</td>\n",
       "      <td>-0.470369</td>\n",
       "      <td>-1.054326</td>\n",
       "      <td>0.352207</td>\n",
       "      <td>-0.431754</td>\n",
       "      <td>-0.186422</td>\n",
       "      <td>1.362683</td>\n",
       "      <td>-0.126976</td>\n",
       "      <td>-2.522448</td>\n",
       "      <td>0.626738</td>\n",
       "      <td>...</td>\n",
       "      <td>0.346330</td>\n",
       "      <td>-2.165880</td>\n",
       "      <td>2.037716</td>\n",
       "      <td>-0.715749</td>\n",
       "      <td>-0.328964</td>\n",
       "      <td>0.091847</td>\n",
       "      <td>-1.090315</td>\n",
       "      <td>-0.632209</td>\n",
       "      <td>0.886497</td>\n",
       "      <td>0.914958</td>\n",
       "    </tr>\n",
       "    <tr>\n",
       "      <th>2</th>\n",
       "      <td>-1.597741</td>\n",
       "      <td>0.777435</td>\n",
       "      <td>0.267835</td>\n",
       "      <td>-1.186580</td>\n",
       "      <td>-0.048285</td>\n",
       "      <td>0.638156</td>\n",
       "      <td>0.627173</td>\n",
       "      <td>-0.367807</td>\n",
       "      <td>-2.083738</td>\n",
       "      <td>1.277261</td>\n",
       "      <td>...</td>\n",
       "      <td>-2.057728</td>\n",
       "      <td>1.391847</td>\n",
       "      <td>-0.760141</td>\n",
       "      <td>-0.700443</td>\n",
       "      <td>-3.046240</td>\n",
       "      <td>0.323482</td>\n",
       "      <td>1.074514</td>\n",
       "      <td>-1.064665</td>\n",
       "      <td>-1.457375</td>\n",
       "      <td>0.504237</td>\n",
       "    </tr>\n",
       "    <tr>\n",
       "      <th>3</th>\n",
       "      <td>0.909784</td>\n",
       "      <td>0.910874</td>\n",
       "      <td>0.435565</td>\n",
       "      <td>-1.951355</td>\n",
       "      <td>0.577979</td>\n",
       "      <td>-0.603668</td>\n",
       "      <td>-0.209334</td>\n",
       "      <td>0.787032</td>\n",
       "      <td>-2.518156</td>\n",
       "      <td>-0.189924</td>\n",
       "      <td>...</td>\n",
       "      <td>0.052121</td>\n",
       "      <td>0.144603</td>\n",
       "      <td>0.474985</td>\n",
       "      <td>0.024548</td>\n",
       "      <td>0.138589</td>\n",
       "      <td>1.339473</td>\n",
       "      <td>0.518763</td>\n",
       "      <td>0.312907</td>\n",
       "      <td>0.992612</td>\n",
       "      <td>-1.121993</td>\n",
       "    </tr>\n",
       "    <tr>\n",
       "      <th>4</th>\n",
       "      <td>0.121554</td>\n",
       "      <td>-1.045082</td>\n",
       "      <td>-1.070315</td>\n",
       "      <td>-0.441583</td>\n",
       "      <td>-1.718309</td>\n",
       "      <td>0.138502</td>\n",
       "      <td>-0.534873</td>\n",
       "      <td>2.212596</td>\n",
       "      <td>0.001896</td>\n",
       "      <td>-1.008905</td>\n",
       "      <td>...</td>\n",
       "      <td>1.267492</td>\n",
       "      <td>2.010374</td>\n",
       "      <td>-1.055319</td>\n",
       "      <td>0.852120</td>\n",
       "      <td>-2.115959</td>\n",
       "      <td>1.801926</td>\n",
       "      <td>-0.327890</td>\n",
       "      <td>-1.539215</td>\n",
       "      <td>0.214853</td>\n",
       "      <td>2.003376</td>\n",
       "    </tr>\n",
       "  </tbody>\n",
       "</table>\n",
       "<p>5 rows × 300 columns</p>\n",
       "</div>"
      ],
      "text/plain": [
       "         f0        f1        f2        f3        f4        f5        f6  \\\n",
       "0 -0.994557 -1.136878  0.169768  0.768031  0.014296  0.524148  1.023236   \n",
       "1 -0.601184 -0.470369 -1.054326  0.352207 -0.431754 -0.186422  1.362683   \n",
       "2 -1.597741  0.777435  0.267835 -1.186580 -0.048285  0.638156  0.627173   \n",
       "3  0.909784  0.910874  0.435565 -1.951355  0.577979 -0.603668 -0.209334   \n",
       "4  0.121554 -1.045082 -1.070315 -0.441583 -1.718309  0.138502 -0.534873   \n",
       "\n",
       "         f7        f8        f9    ...         f290      f291      f292  \\\n",
       "0 -0.172799  0.012040 -0.310725    ...     1.074111 -0.392414 -0.380007   \n",
       "1 -0.126976 -2.522448  0.626738    ...     0.346330 -2.165880  2.037716   \n",
       "2 -0.367807 -2.083738  1.277261    ...    -2.057728  1.391847 -0.760141   \n",
       "3  0.787032 -2.518156 -0.189924    ...     0.052121  0.144603  0.474985   \n",
       "4  2.212596  0.001896 -1.008905    ...     1.267492  2.010374 -1.055319   \n",
       "\n",
       "       f293      f294      f295      f296      f297      f298      f299  \n",
       "0  1.463322  0.950080 -0.374694  0.024485 -0.036063 -0.910353 -0.137185  \n",
       "1 -0.715749 -0.328964  0.091847 -1.090315 -0.632209  0.886497  0.914958  \n",
       "2 -0.700443 -3.046240  0.323482  1.074514 -1.064665 -1.457375  0.504237  \n",
       "3  0.024548  0.138589  1.339473  0.518763  0.312907  0.992612 -1.121993  \n",
       "4  0.852120 -2.115959  1.801926 -0.327890 -1.539215  0.214853  2.003376  \n",
       "\n",
       "[5 rows x 300 columns]"
      ]
     },
     "execution_count": 2,
     "metadata": {},
     "output_type": "execute_result"
    }
   ],
   "source": [
    "# 构建测试数据\n",
    "df, label = make_classification(\n",
    "    n_samples=5000,\n",
    "    n_features=300,\n",
    "    n_informative=12,\n",
    "    n_redundant=7,\n",
    "    random_state=134985745,\n",
    ")\n",
    "df = pd.DataFrame(df, columns=[f\"f{i}\" for i in range(df.shape[1])])\n",
    "\n",
    "print(\"df shape:\", df.shape)\n",
    "print(\"label: \", label)\n",
    "df.head()"
   ]
  },
  {
   "cell_type": "markdown",
   "metadata": {},
   "source": [
    "## 特征选择\n",
    "\n",
    "本部分的整体思想是按照某一策略给出特征的子集，然后通过交叉验证或者验证集来对特征子集进行评估，最后选出最优的特征子集。   \n",
    "目前实现的算法有四种分别是随机搜索、模型重要性选取、模型重要性top list和lvw。\n",
    "- 随机搜索   \n",
    "特征子集的选取策略是随机选择部分特征\n",
    "\n",
    "- 模型重要性选取   \n",
    "类似随机搜索，不过每次特征选取时按照特征重要性进行选取，特征重要性越大，那么选择到的概率越大。\n",
    "\n",
    "- 模型重要性top list   \n",
    "按照特征重要性对特征进行排序，然后选择前top list作为特征子集\n",
    "\n",
    "- lvw   \n",
    "Las Vegas Wraaper，每次特征自己在当前最优的特征子集中进行选择，相当于在不断缩小特征范围，具体算法原理参考周志华《机器学习》,p250-p252\n",
    "\n",
    "前三种搜索算法原理基本类似，不同之处在于每次特征子集的不同，其函数对应的参数基本是一致的，首先介绍这三种算法。\n",
    "\n",
    "## 1. 随机搜索\n",
    "\n",
    "### 1.1 方法1\n",
    "通过交叉验证的方式进行特征自己的评估。其中参数`sample`可以控制每次选择特征子集的数量，默认为None，相当于随机产生一个数字作为特征子集的数量，如果是float类型，应该在范围(0, 1)之间表示每次特征选取的比例，如果是一个正整数，则为每次选取特征的具体数量。\n",
    "> 数据的输入也可以是numpy.ndarray,这样返回的这是每个特征的index"
   ]
  },
  {
   "cell_type": "code",
   "execution_count": 3,
   "metadata": {
    "ExecuteTime": {
     "end_time": "2019-12-03T09:34:36.115349Z",
     "start_time": "2019-12-03T09:33:46.228111Z"
    },
    "scrolled": true
   },
   "outputs": [
    {
     "name": "stdout",
     "output_type": "stream",
     "text": [
      "initialize effect 0.7664000213162648, cost time 5, with feat_dim 300, with param None\n",
      "round 1/10 start...\n",
      "round 1/10 end, effect subset is 0.7725987815642154, cost time 4, with feature dim is 240, with param None\n",
      "round 2/10 start...\n",
      "round 2/10 end, effect subset is 0.7722004218604059, cost time 5, with feature dim is 240, with param None\n",
      "round 3/10 start...\n",
      "round 3/10 end, effect subset is 0.7453988193957848, cost time 4, with feature dim is 240, with param None\n",
      "round 4/10 start...\n",
      "round 4/10 end, effect subset is 0.7648032218286236, cost time 3, with feature dim is 240, with param None\n",
      "round 5/10 start...\n",
      "round 5/10 end, effect subset is 0.7641997410841962, cost time 5, with feature dim is 240, with param None\n",
      "round 6/10 start...\n",
      "round 6/10 end, effect subset is 0.7711982213401257, cost time 4, with feature dim is 240, with param None\n",
      "round 7/10 start...\n",
      "round 7/10 end, effect subset is 0.7631963403237719, cost time 4, with feature dim is 240, with param None\n",
      "round 8/10 start...\n",
      "round 8/10 end, effect subset is 0.7469994596518871, cost time 3, with feature dim is 240, with param None\n",
      "round 9/10 start...\n",
      "round 9/10 end, effect subset is 0.7629959002197161, cost time 4, with feature dim is 240, with param None\n",
      "round 10/10 start...\n",
      "round 10/10 end, effect subset is 0.735598978643647, cost time 3, with feature dim is 240, with param None\n",
      "all round end.\n",
      "best effect is 0.7725987815642154, best feature dim 240, input feat dim is 300\n",
      "0.7725987815642154 ['f236', 'f169', 'f17', 'f92', 'f235', 'f15', 'f0', 'f152', 'f176', 'f244', 'f98', 'f274', 'f96', 'f123', 'f267', 'f221', 'f109', 'f203', 'f185', 'f177', 'f160', 'f11', 'f50', 'f247', 'f259', 'f255', 'f34', 'f230', 'f154', 'f66', 'f205', 'f215', 'f238', 'f95', 'f7', 'f206', 'f263', 'f282', 'f110', 'f64', 'f111', 'f87', 'f220', 'f38', 'f153', 'f129', 'f262', 'f256', 'f209', 'f56', 'f162', 'f106', 'f278', 'f291', 'f178', 'f266', 'f108', 'f104', 'f101', 'f158', 'f249', 'f29', 'f181', 'f62', 'f14', 'f75', 'f118', 'f211', 'f41', 'f150', 'f131', 'f183', 'f289', 'f271', 'f76', 'f224', 'f268', 'f1', 'f165', 'f12', 'f279', 'f53', 'f287', 'f114', 'f71', 'f135', 'f184', 'f207', 'f245', 'f61', 'f243', 'f214', 'f128', 'f3', 'f143', 'f294', 'f228', 'f213', 'f94', 'f252', 'f285', 'f254', 'f89', 'f49', 'f159', 'f35', 'f269', 'f250', 'f246', 'f55', 'f167', 'f146', 'f23', 'f277', 'f187', 'f173', 'f124', 'f68', 'f251', 'f189', 'f186', 'f5', 'f297', 'f65', 'f40', 'f119', 'f74', 'f22', 'f19', 'f59', 'f188', 'f218', 'f44', 'f137', 'f31', 'f257', 'f43', 'f85', 'f149', 'f134', 'f264', 'f120', 'f81', 'f67', 'f240', 'f195', 'f208', 'f241', 'f182', 'f179', 'f90', 'f232', 'f180', 'f47', 'f237', 'f30', 'f163', 'f193', 'f48', 'f200', 'f138', 'f28', 'f258', 'f125', 'f170', 'f157', 'f260', 'f226', 'f201', 'f286', 'f216', 'f239', 'f194', 'f121', 'f299', 'f73', 'f97', 'f8', 'f130', 'f105', 'f190', 'f6', 'f36', 'f27', 'f32', 'f144', 'f4', 'f117', 'f115', 'f171', 'f136', 'f84', 'f10', 'f113', 'f234', 'f248', 'f72', 'f197', 'f293', 'f198', 'f253', 'f82', 'f229', 'f37', 'f39', 'f33', 'f281', 'f273', 'f79', 'f116', 'f172', 'f202', 'f227', 'f272', 'f145', 'f13', 'f78', 'f196', 'f275', 'f26', 'f298', 'f191', 'f233', 'f52', 'f20', 'f231', 'f18', 'f58', 'f295', 'f140', 'f132', 'f288', 'f217', 'f25', 'f133', 'f83', 'f99', 'f93', 'f21', 'f242']\n"
     ]
    }
   ],
   "source": [
    "from model_helper.feature_selection.wrapper import random_search\n",
    "\n",
    "clf = DecisionTreeClassifier()\n",
    "subset, effect = random_search(df, label, clf, k_fold=3, sample=0.8, max_iter=10, random_state=666)\n",
    "print(effect, subset)"
   ]
  },
  {
   "cell_type": "markdown",
   "metadata": {},
   "source": [
    "### 1.2 方法2\n",
    "该方法是方法1的升级版，相当于可以传递自定义的参数至`cross_val_score`中，有关`cross_val_score`的API可以参考[链接](https://scikit-learn.org/stable/modules/generated/sklearn.model_selection.cross_val_score.html)。\n",
    "\n",
    "下面的使用中定义了`cross_val_score`的`scoring`和`n_jobs`两个参数。\n",
    "> 该方法中参数`X`, `y`和`cv`参数分别对应param_search中的`train_x`, `train_y`和`cv`，不需要再额外定义。"
   ]
  },
  {
   "cell_type": "code",
   "execution_count": 4,
   "metadata": {
    "ExecuteTime": {
     "end_time": "2019-12-03T09:35:19.574421Z",
     "start_time": "2019-12-03T09:34:36.119199Z"
    }
   },
   "outputs": [
    {
     "name": "stdout",
     "output_type": "stream",
     "text": [
      "initialize effect 0.7664016731110735, cost time 5, with feat_dim 300, with param None\n",
      "round 1/10 start...\n",
      "round 1/10 end, effect subset is 0.7725984269010402, cost time 4, with feature dim is 240, with param None\n",
      "round 2/10 start...\n",
      "round 2/10 end, effect subset is 0.7722006543774653, cost time 3, with feature dim is 240, with param None\n",
      "round 3/10 start...\n",
      "round 3/10 end, effect subset is 0.7453891492977888, cost time 3, with feature dim is 240, with param None\n",
      "round 4/10 start...\n",
      "round 4/10 end, effect subset is 0.7647955104364229, cost time 3, with feature dim is 240, with param None\n",
      "round 5/10 start...\n",
      "round 5/10 end, effect subset is 0.7642036744855613, cost time 4, with feature dim is 240, with param None\n",
      "round 6/10 start...\n",
      "round 6/10 end, effect subset is 0.7711966602443517, cost time 3, with feature dim is 240, with param None\n",
      "round 7/10 start...\n",
      "round 7/10 end, effect subset is 0.7631965656171517, cost time 3, with feature dim is 240, with param None\n",
      "round 8/10 start...\n",
      "round 8/10 end, effect subset is 0.7470008165508127, cost time 3, with feature dim is 240, with param None\n",
      "round 9/10 start...\n",
      "round 9/10 end, effect subset is 0.7629890410564225, cost time 3, with feature dim is 240, with param None\n",
      "round 10/10 start...\n",
      "round 10/10 end, effect subset is 0.7355964819346733, cost time 3, with feature dim is 240, with param None\n",
      "all round end.\n",
      "best effect is 0.7725984269010402, best feature dim 240, input feat dim is 300\n",
      "0.7725984269010402 ['f236', 'f169', 'f17', 'f92', 'f235', 'f15', 'f0', 'f152', 'f176', 'f244', 'f98', 'f274', 'f96', 'f123', 'f267', 'f221', 'f109', 'f203', 'f185', 'f177', 'f160', 'f11', 'f50', 'f247', 'f259', 'f255', 'f34', 'f230', 'f154', 'f66', 'f205', 'f215', 'f238', 'f95', 'f7', 'f206', 'f263', 'f282', 'f110', 'f64', 'f111', 'f87', 'f220', 'f38', 'f153', 'f129', 'f262', 'f256', 'f209', 'f56', 'f162', 'f106', 'f278', 'f291', 'f178', 'f266', 'f108', 'f104', 'f101', 'f158', 'f249', 'f29', 'f181', 'f62', 'f14', 'f75', 'f118', 'f211', 'f41', 'f150', 'f131', 'f183', 'f289', 'f271', 'f76', 'f224', 'f268', 'f1', 'f165', 'f12', 'f279', 'f53', 'f287', 'f114', 'f71', 'f135', 'f184', 'f207', 'f245', 'f61', 'f243', 'f214', 'f128', 'f3', 'f143', 'f294', 'f228', 'f213', 'f94', 'f252', 'f285', 'f254', 'f89', 'f49', 'f159', 'f35', 'f269', 'f250', 'f246', 'f55', 'f167', 'f146', 'f23', 'f277', 'f187', 'f173', 'f124', 'f68', 'f251', 'f189', 'f186', 'f5', 'f297', 'f65', 'f40', 'f119', 'f74', 'f22', 'f19', 'f59', 'f188', 'f218', 'f44', 'f137', 'f31', 'f257', 'f43', 'f85', 'f149', 'f134', 'f264', 'f120', 'f81', 'f67', 'f240', 'f195', 'f208', 'f241', 'f182', 'f179', 'f90', 'f232', 'f180', 'f47', 'f237', 'f30', 'f163', 'f193', 'f48', 'f200', 'f138', 'f28', 'f258', 'f125', 'f170', 'f157', 'f260', 'f226', 'f201', 'f286', 'f216', 'f239', 'f194', 'f121', 'f299', 'f73', 'f97', 'f8', 'f130', 'f105', 'f190', 'f6', 'f36', 'f27', 'f32', 'f144', 'f4', 'f117', 'f115', 'f171', 'f136', 'f84', 'f10', 'f113', 'f234', 'f248', 'f72', 'f197', 'f293', 'f198', 'f253', 'f82', 'f229', 'f37', 'f39', 'f33', 'f281', 'f273', 'f79', 'f116', 'f172', 'f202', 'f227', 'f272', 'f145', 'f13', 'f78', 'f196', 'f275', 'f26', 'f298', 'f191', 'f233', 'f52', 'f20', 'f231', 'f18', 'f58', 'f295', 'f140', 'f132', 'f288', 'f217', 'f25', 'f133', 'f83', 'f99', 'f93', 'f21', 'f242']\n"
     ]
    }
   ],
   "source": [
    "from model_helper.feature_selection.wrapper import random_search\n",
    "\n",
    "\n",
    "clf = DecisionTreeClassifier()\n",
    "# 定义`cross_val_score`方法的参数\n",
    "cross_val_param = {\"scoring\": lambda clf, X, y: roc_auc_score(y_true=y, y_score=clf.predict_proba(X)[:, 1]),\n",
    "                   \"n_jobs\": None}\n",
    "\n",
    "subset, effect = random_search(df, label, clf, k_fold=3, sample=0.8, max_iter=10, random_state=666, cross_val_param=cross_val_param)\n",
    "print(effect, subset)"
   ]
  },
  {
   "cell_type": "markdown",
   "metadata": {},
   "source": [
    "### 1.3 方法3   \n",
    "通过随机产生验证集的方式进行特征子集的筛选。\n",
    "上面两种方式的核心是通过交叉验证的方式进行特征子集的评估，显然当数据量较大时速度会很慢。下面这种方式是通过随机划分验证集的方式进行特征子集的评估。   \n",
    "此时需要指定三组参数`create_valid`&`valid_ratio`&`metric_func`，参数`create_valid`是表示需要从输入数据中划分验证集，`valid_ratio`表示划分验证集的比例，最后一组参数`metric_func`则是表示评估验证效果的函数（输入是y_true,y_pred，返回应当只有一个值）。"
   ]
  },
  {
   "cell_type": "code",
   "execution_count": 5,
   "metadata": {
    "ExecuteTime": {
     "end_time": "2019-12-03T09:35:36.506895Z",
     "start_time": "2019-12-03T09:35:19.578516Z"
    },
    "scrolled": true
   },
   "outputs": [
    {
     "name": "stdout",
     "output_type": "stream",
     "text": [
      "initialize effect 0.7970273245921329, cost time 1, with feat_dim 300, with param None\n",
      "round 1/10 start...\n",
      "round 1/10 end, effect subset is 0.7835551996797118, cost time 1, with feature dim is 240, with param None\n",
      "round 2/10 start...\n",
      "round 2/10 end, effect subset is 0.8078170353317987, cost time 1, with feature dim is 240, with param None\n",
      "round 3/10 start...\n",
      "round 3/10 end, effect subset is 0.758862976679011, cost time 1, with feature dim is 240, with param None\n",
      "round 4/10 start...\n",
      "round 4/10 end, effect subset is 0.7792413171854669, cost time 1, with feature dim is 240, with param None\n",
      "round 5/10 start...\n",
      "round 5/10 end, effect subset is 0.7663296967270544, cost time 1, with feature dim is 240, with param None\n",
      "round 6/10 start...\n",
      "round 6/10 end, effect subset is 0.7920528475628066, cost time 1, with feature dim is 240, with param None\n",
      "round 7/10 start...\n",
      "round 7/10 end, effect subset is 0.7711840656590931, cost time 1, with feature dim is 240, with param None\n",
      "round 8/10 start...\n",
      "round 8/10 end, effect subset is 0.767600840756681, cost time 1, with feature dim is 240, with param None\n",
      "round 9/10 start...\n",
      "round 9/10 end, effect subset is 0.7719147232509258, cost time 1, with feature dim is 240, with param None\n",
      "round 10/10 start...\n",
      "round 10/10 end, effect subset is 0.7598838955059555, cost time 1, with feature dim is 240, with param None\n",
      "all round end.\n",
      "best effect is 0.8078170353317987, best feature dim 240, input feat dim is 300\n",
      "0.8078170353317987 ['f149', 'f185', 'f202', 'f269', 'f85', 'f164', 'f55', 'f98', 'f188', 'f207', 'f50', 'f208', 'f216', 'f268', 'f147', 'f205', 'f45', 'f113', 'f134', 'f141', 'f254', 'f90', 'f124', 'f174', 'f211', 'f89', 'f42', 'f182', 'f107', 'f84', 'f289', 'f28', 'f79', 'f225', 'f62', 'f227', 'f293', 'f210', 'f16', 'f273', 'f136', 'f92', 'f247', 'f133', 'f244', 'f142', 'f64', 'f195', 'f23', 'f162', 'f287', 'f120', 'f82', 'f166', 'f131', 'f35', 'f138', 'f0', 'f263', 'f206', 'f128', 'f183', 'f251', 'f292', 'f271', 'f100', 'f106', 'f184', 'f163', 'f145', 'f204', 'f277', 'f256', 'f91', 'f139', 'f72', 'f69', 'f74', 'f109', 'f110', 'f58', 'f179', 'f86', 'f278', 'f59', 'f223', 'f20', 'f282', 'f56', 'f177', 'f197', 'f262', 'f94', 'f198', 'f155', 'f196', 'f194', 'f270', 'f10', 'f73', 'f99', 'f297', 'f159', 'f242', 'f95', 'f36', 'f146', 'f122', 'f156', 'f96', 'f25', 'f199', 'f6', 'f192', 'f101', 'f233', 'f201', 'f291', 'f67', 'f148', 'f261', 'f57', 'f178', 'f187', 'f165', 'f81', 'f127', 'f189', 'f259', 'f158', 'f250', 'f121', 'f14', 'f279', 'f66', 'f34', 'f243', 'f49', 'f53', 'f22', 'f181', 'f154', 'f234', 'f119', 'f78', 'f190', 'f265', 'f235', 'f272', 'f191', 'f220', 'f161', 'f238', 'f70', 'f51', 'f80', 'f87', 'f123', 'f175', 'f186', 'f214', 'f105', 'f295', 'f294', 'f274', 'f224', 'f260', 'f258', 'f9', 'f144', 'f21', 'f171', 'f54', 'f118', 'f26', 'f209', 'f47', 'f125', 'f237', 'f228', 'f13', 'f111', 'f76', 'f172', 'f239', 'f11', 'f30', 'f245', 'f126', 'f52', 'f65', 'f284', 'f169', 'f173', 'f257', 'f288', 'f255', 'f83', 'f130', 'f88', 'f221', 'f157', 'f17', 'f112', 'f19', 'f18', 'f299', 'f213', 'f44', 'f150', 'f97', 'f176', 'f1', 'f152', 'f160', 'f12', 'f37', 'f5', 'f61', 'f298', 'f285', 'f29', 'f296', 'f264', 'f286', 'f33', 'f132', 'f2', 'f103', 'f151', 'f229', 'f203', 'f167', 'f77', 'f168', 'f143', 'f193', 'f219', 'f217', 'f240']\n"
     ]
    }
   ],
   "source": [
    "from model_helper.feature_selection.wrapper import random_search\n",
    "\n",
    "clf = DecisionTreeClassifier()\n",
    "subset, effect = random_search(df, label, clf, create_valid=True, valid_ratio=0.2, metric_func=roc_auc_score, sample=0.8, max_iter=10, random_state=666)\n",
    "print(effect, subset)"
   ]
  },
  {
   "cell_type": "markdown",
   "metadata": {
    "ExecuteTime": {
     "end_time": "2019-11-07T08:25:46.872441Z",
     "start_time": "2019-11-07T08:25:46.862226Z"
    }
   },
   "source": [
    "### 1.4 方法4\n",
    "通过自定义的验证集作为特征子集评估的标准。   \n",
    "方法3中通过随机划分验证集进行特征子集的评估，当训练样本中虽在时序相关时（即样本是严格按照时间来产生）时，这种方式欠妥，存在拿未来的样本训练来预测过去的样本。    \n",
    "下面这种方式支持自定义输入验证集。需要指定参数`valid_x`&`valid_y`&`metric_func`。"
   ]
  },
  {
   "cell_type": "code",
   "execution_count": 6,
   "metadata": {
    "ExecuteTime": {
     "end_time": "2019-12-03T09:35:47.266203Z",
     "start_time": "2019-12-03T09:35:36.509562Z"
    },
    "scrolled": true
   },
   "outputs": [
    {
     "name": "stdout",
     "output_type": "stream",
     "text": [
      "initialize effect 0.8003533710315792, cost time 1, with feat_dim 300, with param None\n",
      "round 1/10 start...\n",
      "round 1/10 end, effect subset is 0.745788961857539, cost time 0, with feature dim is 71, with param None\n",
      "round 2/10 start...\n",
      "round 2/10 end, effect subset is 0.6519195290520612, cost time 0, with feature dim is 115, with param None\n",
      "round 3/10 start...\n",
      "round 3/10 end, effect subset is 0.7617526883011377, cost time 2, with feature dim is 284, with param None\n",
      "round 4/10 start...\n",
      "round 4/10 end, effect subset is 0.6468070546144334, cost time 0, with feature dim is 106, with param None\n",
      "round 5/10 start...\n",
      "round 5/10 end, effect subset is 0.7778484786636732, cost time 1, with feature dim is 189, with param None\n",
      "round 6/10 start...\n",
      "round 6/10 end, effect subset is 0.7958131735760108, cost time 1, with feature dim is 228, with param None\n",
      "round 7/10 start...\n",
      "round 7/10 end, effect subset is 0.580643031227114, cost time 0, with feature dim is 69, with param None\n",
      "round 8/10 start...\n",
      "round 8/10 end, effect subset is 0.6046546528519804, cost time 0, with feature dim is 111, with param None\n",
      "round 9/10 start...\n",
      "round 9/10 end, effect subset is 0.7265816655261146, cost time 0, with feature dim is 155, with param None\n",
      "round 10/10 start...\n",
      "round 10/10 end, effect subset is 0.6596152537828308, cost time 0, with feature dim is 61, with param None\n",
      "all round end.\n",
      "best effect is 0.8003533710315792, best feature dim 300, input feat dim is 300\n",
      "0.8003533710315792 ['f0', 'f1', 'f2', 'f3', 'f4', 'f5', 'f6', 'f7', 'f8', 'f9', 'f10', 'f11', 'f12', 'f13', 'f14', 'f15', 'f16', 'f17', 'f18', 'f19', 'f20', 'f21', 'f22', 'f23', 'f24', 'f25', 'f26', 'f27', 'f28', 'f29', 'f30', 'f31', 'f32', 'f33', 'f34', 'f35', 'f36', 'f37', 'f38', 'f39', 'f40', 'f41', 'f42', 'f43', 'f44', 'f45', 'f46', 'f47', 'f48', 'f49', 'f50', 'f51', 'f52', 'f53', 'f54', 'f55', 'f56', 'f57', 'f58', 'f59', 'f60', 'f61', 'f62', 'f63', 'f64', 'f65', 'f66', 'f67', 'f68', 'f69', 'f70', 'f71', 'f72', 'f73', 'f74', 'f75', 'f76', 'f77', 'f78', 'f79', 'f80', 'f81', 'f82', 'f83', 'f84', 'f85', 'f86', 'f87', 'f88', 'f89', 'f90', 'f91', 'f92', 'f93', 'f94', 'f95', 'f96', 'f97', 'f98', 'f99', 'f100', 'f101', 'f102', 'f103', 'f104', 'f105', 'f106', 'f107', 'f108', 'f109', 'f110', 'f111', 'f112', 'f113', 'f114', 'f115', 'f116', 'f117', 'f118', 'f119', 'f120', 'f121', 'f122', 'f123', 'f124', 'f125', 'f126', 'f127', 'f128', 'f129', 'f130', 'f131', 'f132', 'f133', 'f134', 'f135', 'f136', 'f137', 'f138', 'f139', 'f140', 'f141', 'f142', 'f143', 'f144', 'f145', 'f146', 'f147', 'f148', 'f149', 'f150', 'f151', 'f152', 'f153', 'f154', 'f155', 'f156', 'f157', 'f158', 'f159', 'f160', 'f161', 'f162', 'f163', 'f164', 'f165', 'f166', 'f167', 'f168', 'f169', 'f170', 'f171', 'f172', 'f173', 'f174', 'f175', 'f176', 'f177', 'f178', 'f179', 'f180', 'f181', 'f182', 'f183', 'f184', 'f185', 'f186', 'f187', 'f188', 'f189', 'f190', 'f191', 'f192', 'f193', 'f194', 'f195', 'f196', 'f197', 'f198', 'f199', 'f200', 'f201', 'f202', 'f203', 'f204', 'f205', 'f206', 'f207', 'f208', 'f209', 'f210', 'f211', 'f212', 'f213', 'f214', 'f215', 'f216', 'f217', 'f218', 'f219', 'f220', 'f221', 'f222', 'f223', 'f224', 'f225', 'f226', 'f227', 'f228', 'f229', 'f230', 'f231', 'f232', 'f233', 'f234', 'f235', 'f236', 'f237', 'f238', 'f239', 'f240', 'f241', 'f242', 'f243', 'f244', 'f245', 'f246', 'f247', 'f248', 'f249', 'f250', 'f251', 'f252', 'f253', 'f254', 'f255', 'f256', 'f257', 'f258', 'f259', 'f260', 'f261', 'f262', 'f263', 'f264', 'f265', 'f266', 'f267', 'f268', 'f269', 'f270', 'f271', 'f272', 'f273', 'f274', 'f275', 'f276', 'f277', 'f278', 'f279', 'f280', 'f281', 'f282', 'f283', 'f284', 'f285', 'f286', 'f287', 'f288', 'f289', 'f290', 'f291', 'f292', 'f293', 'f294', 'f295', 'f296', 'f297', 'f298', 'f299']\n"
     ]
    }
   ],
   "source": [
    "from model_helper.feature_selection.wrapper import random_search\n",
    "\n",
    "clf = DecisionTreeClassifier()\n",
    "subset, effect = random_search(df[:-1000], label[:-1000], clf, valid_x=df[-1000:], valid_y=label[-1000:], metric_func=roc_auc_score, sample=None, max_iter=10, random_state=666)\n",
    "print(effect, subset)"
   ]
  },
  {
   "cell_type": "markdown",
   "metadata": {
    "ExecuteTime": {
     "end_time": "2019-11-07T08:55:03.201532Z",
     "start_time": "2019-11-07T08:55:03.187404Z"
    }
   },
   "source": [
    "### 1.5 方法5\n",
    "当验证方式使用验证集进行特征子集的评估时，该方法提供了一种高阶的使用方式。该方式最初想法是想融入`early_stopping_rounds`至特征选择的过程中，即每次调参时最优训练轮数是一个动态调整的值。\n",
    "\n",
    "该方式需要额外指定一组参数，该参数类型是dict，里面可包含key值为`model_fit_param`或者`set_eval_set`或者`update_param_func`，\n",
    "- `model_fit_param`  \n",
    "模型训练时，`fit`方法包含的参数，是一个dict\n",
    "- `set_eval_set`   \n",
    "在训练时是否指定验证集合，如果设置为True，会在fit时添加一组参数`eval_set = [(valid_x, valid_y)]`，否则则不添加，往往early_stopping_rounds时需要指定。\n",
    "- `update_param_func`   \n",
    "更新参数的function，输入为model和param，输出也是param，在使用early_stopping_rounds需要返回最佳的训练轮次，则可以启用该函数。\n"
   ]
  },
  {
   "cell_type": "code",
   "execution_count": 7,
   "metadata": {
    "ExecuteTime": {
     "end_time": "2019-12-03T09:35:54.955058Z",
     "start_time": "2019-12-03T09:35:47.268973Z"
    }
   },
   "outputs": [
    {
     "name": "stdout",
     "output_type": "stream",
     "text": [
      "initialize effect 0.9689800820738664, cost time 3, with feat_dim 300, with param {'best_iteration': 51}\n",
      "round 1/10 start...\n",
      "round 1/10 end, effect subset is 0.8561004904413972, cost time 0, with feature dim is 81, with param {'best_iteration': 16}\n",
      "round 2/10 start...\n",
      "round 2/10 end, effect subset is 0.9007186467821039, cost time 0, with feature dim is 81, with param {'best_iteration': 29}\n",
      "round 3/10 start...\n",
      "round 3/10 end, effect subset is 0.6921169052146932, cost time 0, with feature dim is 81, with param {'best_iteration': 6}\n",
      "round 4/10 start...\n",
      "round 4/10 end, effect subset is 0.8434671204083676, cost time 0, with feature dim is 81, with param {'best_iteration': 22}\n",
      "round 5/10 start...\n",
      "round 5/10 end, effect subset is 0.8152677409668702, cost time 0, with feature dim is 81, with param {'best_iteration': 18}\n",
      "round 6/10 start...\n",
      "round 6/10 end, effect subset is 0.937445701131018, cost time 0, with feature dim is 81, with param {'best_iteration': 30}\n",
      "round 7/10 start...\n",
      "round 7/10 end, effect subset is 0.6234851366229607, cost time 0, with feature dim is 81, with param {'best_iteration': 16}\n",
      "round 8/10 start...\n",
      "round 8/10 end, effect subset is 0.6652667400660595, cost time 0, with feature dim is 81, with param {'best_iteration': 24}\n",
      "round 9/10 start...\n",
      "round 9/10 end, effect subset is 0.8777860074066661, cost time 0, with feature dim is 81, with param {'best_iteration': 35}\n",
      "round 10/10 start...\n",
      "round 10/10 end, effect subset is 0.8264878390551498, cost time 0, with feature dim is 81, with param {'best_iteration': 26}\n",
      "all round end.\n",
      "best effect is 0.9689800820738664, best feature dim 300, input feat dim is 300\n",
      "{'best_iteration': 51} 0.9689800820738664 ['f0', 'f1', 'f2', 'f3', 'f4', 'f5', 'f6', 'f7', 'f8', 'f9', 'f10', 'f11', 'f12', 'f13', 'f14', 'f15', 'f16', 'f17', 'f18', 'f19', 'f20', 'f21', 'f22', 'f23', 'f24', 'f25', 'f26', 'f27', 'f28', 'f29', 'f30', 'f31', 'f32', 'f33', 'f34', 'f35', 'f36', 'f37', 'f38', 'f39', 'f40', 'f41', 'f42', 'f43', 'f44', 'f45', 'f46', 'f47', 'f48', 'f49', 'f50', 'f51', 'f52', 'f53', 'f54', 'f55', 'f56', 'f57', 'f58', 'f59', 'f60', 'f61', 'f62', 'f63', 'f64', 'f65', 'f66', 'f67', 'f68', 'f69', 'f70', 'f71', 'f72', 'f73', 'f74', 'f75', 'f76', 'f77', 'f78', 'f79', 'f80', 'f81', 'f82', 'f83', 'f84', 'f85', 'f86', 'f87', 'f88', 'f89', 'f90', 'f91', 'f92', 'f93', 'f94', 'f95', 'f96', 'f97', 'f98', 'f99', 'f100', 'f101', 'f102', 'f103', 'f104', 'f105', 'f106', 'f107', 'f108', 'f109', 'f110', 'f111', 'f112', 'f113', 'f114', 'f115', 'f116', 'f117', 'f118', 'f119', 'f120', 'f121', 'f122', 'f123', 'f124', 'f125', 'f126', 'f127', 'f128', 'f129', 'f130', 'f131', 'f132', 'f133', 'f134', 'f135', 'f136', 'f137', 'f138', 'f139', 'f140', 'f141', 'f142', 'f143', 'f144', 'f145', 'f146', 'f147', 'f148', 'f149', 'f150', 'f151', 'f152', 'f153', 'f154', 'f155', 'f156', 'f157', 'f158', 'f159', 'f160', 'f161', 'f162', 'f163', 'f164', 'f165', 'f166', 'f167', 'f168', 'f169', 'f170', 'f171', 'f172', 'f173', 'f174', 'f175', 'f176', 'f177', 'f178', 'f179', 'f180', 'f181', 'f182', 'f183', 'f184', 'f185', 'f186', 'f187', 'f188', 'f189', 'f190', 'f191', 'f192', 'f193', 'f194', 'f195', 'f196', 'f197', 'f198', 'f199', 'f200', 'f201', 'f202', 'f203', 'f204', 'f205', 'f206', 'f207', 'f208', 'f209', 'f210', 'f211', 'f212', 'f213', 'f214', 'f215', 'f216', 'f217', 'f218', 'f219', 'f220', 'f221', 'f222', 'f223', 'f224', 'f225', 'f226', 'f227', 'f228', 'f229', 'f230', 'f231', 'f232', 'f233', 'f234', 'f235', 'f236', 'f237', 'f238', 'f239', 'f240', 'f241', 'f242', 'f243', 'f244', 'f245', 'f246', 'f247', 'f248', 'f249', 'f250', 'f251', 'f252', 'f253', 'f254', 'f255', 'f256', 'f257', 'f258', 'f259', 'f260', 'f261', 'f262', 'f263', 'f264', 'f265', 'f266', 'f267', 'f268', 'f269', 'f270', 'f271', 'f272', 'f273', 'f274', 'f275', 'f276', 'f277', 'f278', 'f279', 'f280', 'f281', 'f282', 'f283', 'f284', 'f285', 'f286', 'f287', 'f288', 'f289', 'f290', 'f291', 'f292', 'f293', 'f294', 'f295', 'f296', 'f297', 'f298', 'f299']\n"
     ]
    }
   ],
   "source": [
    "from model_helper.feature_selection.wrapper import random_search\n",
    "\n",
    "clf = LGBMClassifier()\n",
    "\n",
    "def _update(model, param):\n",
    "    if param is None and model.best_iteration_ is not None:\n",
    "        return {\"best_iteration\": model.best_iteration_}\n",
    "    elif param is not None:\n",
    "        return param\n",
    "    else:\n",
    "        return None\n",
    "valid_set_param = {\"model_fit_param\": {\"eval_metric\": \"auc\", \"verbose\": False, \"early_stopping_rounds\": 5},\n",
    "                   \"set_eval_set\": True,\n",
    "                   \"update_param_func\": _update}\n",
    "\n",
    "subset, effect, param = random_search(df, label, clf, sample=81, random_state=666,\n",
    "                                      create_valid=True, valid_ratio=0.2, valid_set_param=valid_set_param,\n",
    "                                      metric_func=roc_auc_score, max_iter=10)\n",
    "print(param, effect, subset)"
   ]
  },
  {
   "cell_type": "markdown",
   "metadata": {},
   "source": [
    "### 1.6 方法6\n",
    "以上方式均是单机版一次次进行遍历进行，如果内存允许的情况下，可以启用多进程。下面以交叉验证作为特征子集的评选标准进行，对验证集的方式评估该方式完全一致。"
   ]
  },
  {
   "cell_type": "code",
   "execution_count": 8,
   "metadata": {
    "ExecuteTime": {
     "end_time": "2019-12-03T09:46:51.839187Z",
     "start_time": "2019-12-03T09:35:54.964732Z"
    }
   },
   "outputs": [
    {
     "name": "stdout",
     "output_type": "stream",
     "text": [
      "0.7864010631247099 ['f176', 'f131', 'f278', 'f106', 'f59', 'f81', 'f12', 'f77', 'f219', 'f128', 'f230', 'f216', 'f277', 'f250', 'f287', 'f122', 'f268', 'f108', 'f209', 'f152', 'f133', 'f125', 'f103', 'f32', 'f180', 'f3', 'f284', 'f161', 'f147', 'f226', 'f89', 'f15', 'f227', 'f291', 'f123', 'f177', 'f225', 'f11', 'f159', 'f151', 'f191', 'f48', 'f61', 'f14', 'f110', 'f85', 'f137', 'f214', 'f155', 'f68', 'f66', 'f247', 'f16', 'f211', 'f114', 'f141', 'f127', 'f295', 'f189', 'f50', 'f296', 'f23', 'f251', 'f67', 'f239', 'f279', 'f22', 'f273', 'f150', 'f290', 'f259', 'f91', 'f275', 'f157', 'f39', 'f289', 'f27', 'f179', 'f236', 'f202', 'f37', 'f84', 'f156', 'f224', 'f121', 'f70', 'f129', 'f112', 'f217', 'f34', 'f149', 'f25', 'f169', 'f270', 'f282', 'f113', 'f79', 'f132', 'f38', 'f174', 'f288', 'f135', 'f257', 'f292', 'f283', 'f175', 'f201', 'f45', 'f107', 'f2', 'f1', 'f104', 'f192', 'f263', 'f249', 'f69', 'f252', 'f148', 'f145', 'f213', 'f100', 'f98', 'f158', 'f281', 'f160', 'f154', 'f232', 'f29', 'f58', 'f188', 'f293', 'f212', 'f93', 'f245', 'f181', 'f143', 'f115', 'f142', 'f20', 'f83', 'f42', 'f46', 'f144', 'f139', 'f64', 'f6', 'f183', 'f0', 'f26', 'f126', 'f51', 'f92', 'f207', 'f203', 'f261', 'f10', 'f241', 'f118', 'f95', 'f271', 'f56', 'f262', 'f41', 'f199', 'f119', 'f258', 'f31', 'f53', 'f170', 'f30', 'f72', 'f164', 'f167', 'f234', 'f166', 'f172', 'f94', 'f185', 'f74', 'f111', 'f221', 'f280', 'f109', 'f47', 'f195', 'f274', 'f87', 'f194', 'f198', 'f153', 'f8', 'f184', 'f297', 'f171', 'f78', 'f248', 'f130', 'f13', 'f235', 'f55', 'f218', 'f163', 'f165', 'f162', 'f35', 'f222', 'f187', 'f208', 'f264', 'f229', 'f196', 'f193', 'f190', 'f215', 'f228', 'f40', 'f21', 'f233', 'f246', 'f186', 'f33', 'f204', 'f102', 'f220', 'f54', 'f269', 'f96', 'f17', 'f9', 'f117', 'f256', 'f76', 'f18', 'f286', 'f99', 'f265', 'f116', 'f90', 'f80', 'f62', 'f210', 'f294', 'f272', 'f44', 'f255', 'f24', 'f4', 'f71', 'f238', 'f105', 'f173', 'f28', 'f36', 'f86', 'f206', 'f200', 'f178', 'f49', 'f134', 'f82', 'f253', 'f88', 'f5', 'f120', 'f254', 'f260', 'f63', 'f124', 'f276', 'f57']\n",
      "do not use multiprocess cost time 432\n",
      "0.7864010631247099 ['f176', 'f131', 'f278', 'f106', 'f59', 'f81', 'f12', 'f77', 'f219', 'f128', 'f230', 'f216', 'f277', 'f250', 'f287', 'f122', 'f268', 'f108', 'f209', 'f152', 'f133', 'f125', 'f103', 'f32', 'f180', 'f3', 'f284', 'f161', 'f147', 'f226', 'f89', 'f15', 'f227', 'f291', 'f123', 'f177', 'f225', 'f11', 'f159', 'f151', 'f191', 'f48', 'f61', 'f14', 'f110', 'f85', 'f137', 'f214', 'f155', 'f68', 'f66', 'f247', 'f16', 'f211', 'f114', 'f141', 'f127', 'f295', 'f189', 'f50', 'f296', 'f23', 'f251', 'f67', 'f239', 'f279', 'f22', 'f273', 'f150', 'f290', 'f259', 'f91', 'f275', 'f157', 'f39', 'f289', 'f27', 'f179', 'f236', 'f202', 'f37', 'f84', 'f156', 'f224', 'f121', 'f70', 'f129', 'f112', 'f217', 'f34', 'f149', 'f25', 'f169', 'f270', 'f282', 'f113', 'f79', 'f132', 'f38', 'f174', 'f288', 'f135', 'f257', 'f292', 'f283', 'f175', 'f201', 'f45', 'f107', 'f2', 'f1', 'f104', 'f192', 'f263', 'f249', 'f69', 'f252', 'f148', 'f145', 'f213', 'f100', 'f98', 'f158', 'f281', 'f160', 'f154', 'f232', 'f29', 'f58', 'f188', 'f293', 'f212', 'f93', 'f245', 'f181', 'f143', 'f115', 'f142', 'f20', 'f83', 'f42', 'f46', 'f144', 'f139', 'f64', 'f6', 'f183', 'f0', 'f26', 'f126', 'f51', 'f92', 'f207', 'f203', 'f261', 'f10', 'f241', 'f118', 'f95', 'f271', 'f56', 'f262', 'f41', 'f199', 'f119', 'f258', 'f31', 'f53', 'f170', 'f30', 'f72', 'f164', 'f167', 'f234', 'f166', 'f172', 'f94', 'f185', 'f74', 'f111', 'f221', 'f280', 'f109', 'f47', 'f195', 'f274', 'f87', 'f194', 'f198', 'f153', 'f8', 'f184', 'f297', 'f171', 'f78', 'f248', 'f130', 'f13', 'f235', 'f55', 'f218', 'f163', 'f165', 'f162', 'f35', 'f222', 'f187', 'f208', 'f264', 'f229', 'f196', 'f193', 'f190', 'f215', 'f228', 'f40', 'f21', 'f233', 'f246', 'f186', 'f33', 'f204', 'f102', 'f220', 'f54', 'f269', 'f96', 'f17', 'f9', 'f117', 'f256', 'f76', 'f18', 'f286', 'f99', 'f265', 'f116', 'f90', 'f80', 'f62', 'f210', 'f294', 'f272', 'f44', 'f255', 'f24', 'f4', 'f71', 'f238', 'f105', 'f173', 'f28', 'f36', 'f86', 'f206', 'f200', 'f178', 'f49', 'f134', 'f82', 'f253', 'f88', 'f5', 'f120', 'f254', 'f260', 'f63', 'f124', 'f276', 'f57']\n",
      "use multiprocess cost time 224\n"
     ]
    }
   ],
   "source": [
    "from model_helper.feature_selection.wrapper import random_search\n",
    "\n",
    "\n",
    "# 未启用多进程，测试耗时\n",
    "s = datetime.now()\n",
    "clf = DecisionTreeClassifier()\n",
    "subset, effect = random_search(df, label, clf, k_fold=3, sample=0.9, max_iter=100, random_state=666, verbose=False)\n",
    "e = datetime.now()\n",
    "print(effect, subset)\n",
    "print(f\"do not use multiprocess cost time {(e-s).seconds}\")  \n",
    "\n",
    "# 启用多进程，测试耗时\n",
    "s = datetime.now()\n",
    "clf = DecisionTreeClassifier()\n",
    "subset, effect = random_search(df, label, clf, k_fold=3, sample=0.9, max_iter=100, \n",
    "                               enable_multiprocess=True, n_jobs=2, random_state=666, verbose=False)\n",
    "e = datetime.now()\n",
    "print(effect, subset)\n",
    "print(f\"use multiprocess cost time {(e-s).seconds}\")  "
   ]
  },
  {
   "cell_type": "markdown",
   "metadata": {},
   "source": [
    "## 2.模型重要性选择\n",
    "该方法在选择特征时，首先根据输入的模型训练一个模型，训练完模型需要带有属性`feature_importances_`，然后根据特征的重要性通过`softmax`方式进行归一到概率分布，然后每次选择特征子集时，依靠此概率分布进行特征子集的选取，这样方式相当于加入了先验知识，然为重要性较高的特征应当以较大概率被选择到。   \n",
    "在函数的实现上，其对应的参数和上面随机选择完全一致，只是函数名不同，这里不再详细展开。\n",
    "\n",
    "### 2.1 方法1\n",
    "通过交叉验证评估特征子集的效果，其余参数的使用的方式参考**随机搜索**部分。"
   ]
  },
  {
   "cell_type": "code",
   "execution_count": 9,
   "metadata": {
    "ExecuteTime": {
     "end_time": "2019-12-03T09:47:38.322318Z",
     "start_time": "2019-12-03T09:46:51.845102Z"
    }
   },
   "outputs": [
    {
     "name": "stdout",
     "output_type": "stream",
     "text": [
      "initialize effect 0.7702002216603497, cost time 4, with feat_dim 300, with param None\n",
      "round 1/10 start...\n",
      "round 1/10 end, effect subset is 0.7695979411560665, cost time 3, with feature dim is 240, with param None\n",
      "round 2/10 start...\n",
      "round 2/10 end, effect subset is 0.7667975408519737, cost time 4, with feature dim is 240, with param None\n",
      "round 3/10 start...\n",
      "round 3/10 end, effect subset is 0.7615997808841594, cost time 3, with feature dim is 240, with param None\n",
      "round 4/10 start...\n",
      "round 4/10 end, effect subset is 0.7712000217003419, cost time 3, with feature dim is 240, with param None\n",
      "round 5/10 start...\n",
      "round 5/10 end, effect subset is 0.7865988627004491, cost time 4, with feature dim is 240, with param None\n",
      "round 6/10 start...\n",
      "round 6/10 end, effect subset is 0.7536015005882377, cost time 3, with feature dim is 240, with param None\n",
      "round 7/10 start...\n",
      "round 7/10 end, effect subset is 0.7267998981236166, cost time 3, with feature dim is 240, with param None\n",
      "round 8/10 start...\n",
      "round 8/10 end, effect subset is 0.7499976595317192, cost time 4, with feature dim is 240, with param None\n",
      "round 9/10 start...\n",
      "round 9/10 end, effect subset is 0.7469998197239304, cost time 3, with feature dim is 240, with param None\n",
      "round 10/10 start...\n",
      "round 10/10 end, effect subset is 0.7757970614760601, cost time 3, with feature dim is 240, with param None\n",
      "all round end.\n",
      "best effect is 0.7865988627004491, best feature dim 240, input feat dim is 300\n",
      "0.7865988627004491 ['f89', 'f212', 'f33', 'f18', 'f83', 'f173', 'f147', 'f52', 'f76', 'f273', 'f221', 'f188', 'f130', 'f252', 'f38', 'f247', 'f117', 'f35', 'f159', 'f177', 'f9', 'f245', 'f153', 'f206', 'f93', 'f229', 'f280', 'f5', 'f190', 'f292', 'f77', 'f160', 'f249', 'f261', 'f100', 'f184', 'f231', 'f216', 'f71', 'f148', 'f123', 'f215', 'f20', 'f155', 'f157', 'f256', 'f142', 'f283', 'f37', 'f101', 'f48', 'f219', 'f54', 'f30', 'f258', 'f271', 'f80', 'f53', 'f222', 'f248', 'f1', 'f12', 'f82', 'f171', 'f288', 'f191', 'f126', 'f96', 'f81', 'f295', 'f39', 'f28', 'f88', 'f26', 'f259', 'f68', 'f121', 'f91', 'f185', 'f127', 'f172', 'f244', 'f218', 'f193', 'f45', 'f228', 'f16', 'f238', 'f140', 'f128', 'f226', 'f253', 'f105', 'f232', 'f144', 'f11', 'f84', 'f220', 'f277', 'f260', 'f225', 'f139', 'f201', 'f98', 'f56', 'f267', 'f59', 'f255', 'f34', 'f70', 'f196', 'f149', 'f287', 'f103', 'f57', 'f198', 'f0', 'f134', 'f55', 'f44', 'f279', 'f46', 'f158', 'f78', 'f97', 'f163', 'f179', 'f165', 'f278', 'f169', 'f106', 'f217', 'f208', 'f224', 'f272', 'f213', 'f107', 'f110', 'f204', 'f145', 'f195', 'f49', 'f43', 'f170', 'f63', 'f86', 'f137', 'f202', 'f176', 'f209', 'f270', 'f262', 'f186', 'f254', 'f109', 'f235', 'f92', 'f236', 'f32', 'f141', 'f181', 'f251', 'f24', 'f99', 'f290', 'f115', 'f61', 'f13', 'f64', 'f189', 'f51', 'f291', 'f3', 'f257', 'f67', 'f131', 'f211', 'f264', 'f85', 'f161', 'f65', 'f27', 'f87', 'f8', 'f74', 'f113', 'f135', 'f263', 'f124', 'f178', 'f227', 'f268', 'f14', 'f210', 'f192', 'f21', 'f199', 'f75', 'f94', 'f293', 'f118', 'f230', 'f138', 'f36', 'f10', 'f29', 'f214', 'f17', 'f2', 'f274', 'f269', 'f187', 'f146', 'f207', 'f296', 'f234', 'f276', 'f58', 'f119', 'f133', 'f239', 'f19', 'f284', 'f90', 'f297', 'f282', 'f241', 'f266', 'f95', 'f129', 'f4', 'f31', 'f175', 'f40', 'f120', 'f22', 'f275', 'f200', 'f15', 'f166']\n"
     ]
    }
   ],
   "source": [
    "from model_helper.feature_selection.wrapper import weight_search\n",
    "\n",
    "clf = DecisionTreeClassifier()\n",
    "subset, effect = weight_search(df, label, clf, k_fold=3, sample=0.8, random_state=667)\n",
    "print(effect, subset)"
   ]
  },
  {
   "cell_type": "markdown",
   "metadata": {},
   "source": [
    "## 3. 模型重要性top list\n",
    "\n",
    "和上面方法类似，需要首先预训练一个模型，该模型用于评估特征的重要性，然后指定相应的特征前top list作为特征候选子集。  \n",
    "其参数基本和上面类似，但是需要指定top list参数。\n",
    "\n",
    "### 3.1 方法1  \n",
    "通过交叉验证评价特征子集的效果，其余参数的使用的方式参考**随机搜索**部分。"
   ]
  },
  {
   "cell_type": "code",
   "execution_count": 10,
   "metadata": {
    "ExecuteTime": {
     "end_time": "2019-12-03T09:48:09.631960Z",
     "start_time": "2019-12-03T09:47:38.325246Z"
    }
   },
   "outputs": [
    {
     "name": "stdout",
     "output_type": "stream",
     "text": [
      "initialize effect 0.7664000213162648, cost time 4, with feat_dim 300, with param None\n",
      "round 1/6 start...\n",
      "round 1/6 end, effect subset is 0.7771977417241641, cost time 4, with feature dim is 285, with param None\n",
      "round 2/6 start...\n",
      "round 2/6 end, effect subset is 0.778797901884209, cost time 4, with feature dim is 270, with param None\n",
      "round 3/6 start...\n",
      "round 3/6 end, effect subset is 0.7805979020282378, cost time 3, with feature dim is 255, with param None\n",
      "round 4/6 start...\n",
      "round 4/6 end, effect subset is 0.7769988619322955, cost time 3, with feature dim is 240, with param None\n",
      "round 5/6 start...\n",
      "round 5/6 end, effect subset is 0.7789973817961497, cost time 3, with feature dim is 225, with param None\n",
      "round 6/6 start...\n",
      "round 6/6 end, effect subset is 0.7743998619243738, cost time 3, with feature dim is 210, with param None\n",
      "all round end.\n",
      "best effect is 0.7805979020282378, best feature dim 255, input feat dim is 300\n",
      "0.7805979020282378 ['f231', 'f107', 'f100', 'f145', 'f29', 'f294', 'f176', 'f171', 'f105', 'f253', 'f82', 'f106', 'f12', 'f247', 'f26', 'f249', 'f232', 'f286', 'f123', 'f135', 'f149', 'f78', 'f256', 'f60', 'f243', 'f287', 'f157', 'f151', 'f15', 'f56', 'f252', 'f206', 'f24', 'f276', 'f114', 'f192', 'f75', 'f86', 'f185', 'f225', 'f236', 'f34', 'f220', 'f187', 'f290', 'f96', 'f194', 'f299', 'f48', 'f298', 'f67', 'f211', 'f228', 'f133', 'f248', 'f25', 'f68', 'f261', 'f74', 'f63', 'f159', 'f57', 'f35', 'f28', 'f148', 'f235', 'f101', 'f259', 'f104', 'f33', 'f103', 'f83', 'f288', 'f178', 'f18', 'f204', 'f292', 'f17', 'f23', 'f147', 'f79', 'f81', 'f168', 'f10', 'f155', 'f112', 'f80', 'f296', 'f182', 'f180', 'f199', 'f238', 'f31', 'f283', 'f37', 'f49', 'f175', 'f274', 'f239', 'f270', 'f280', 'f64', 'f98', 'f166', 'f41', 'f137', 'f224', 'f162', 'f154', 'f126', 'f152', 'f186', 'f39', 'f246', 'f1', 'f128', 'f226', 'f201', 'f84', 'f169', 'f165', 'f273', 'f27', 'f16', 'f90', 'f140', 'f241', 'f212', 'f264', 'f218', 'f117', 'f205', 'f131', 'f120', 'f5', 'f254', 'f45', 'f0', 'f129', 'f92', 'f130', 'f258', 'f30', 'f21', 'f269', 'f197', 'f88', 'f141', 'f4', 'f158', 'f6', 'f61', 'f174', 'f260', 'f91', 'f108', 'f115', 'f69', 'f217', 'f170', 'f291', 'f230', 'f13', 'f213', 'f58', 'f289', 'f122', 'f113', 'f297', 'f266', 'f116', 'f164', 'f9', 'f183', 'f244', 'f190', 'f234', 'f119', 'f214', 'f173', 'f293', 'f271', 'f272', 'f245', 'f99', 'f50', 'f216', 'f191', 'f118', 'f179', 'f215', 'f85', 'f53', 'f268', 'f237', 'f40', 'f22', 'f2', 'f295', 'f3', 'f32', 'f70', 'f71', 'f72', 'f20', 'f66', 'f8', 'f65', 'f42', 'f51', 'f11', 'f52', 'f47', 'f46', 'f44', 'f43', 'f7', 'f19', 'f54', 'f55', 'f59', 'f38', 'f14', 'f62', 'f73', 'f36', 'f251', 'f285', 'f161', 'f202', 'f200', 'f198', 'f196', 'f195', 'f193', 'f265', 'f189', 'f188', 'f267', 'f184', 'f181', 'f177', 'f172', 'f167', 'f203', 'f263', 'f207', 'f227', 'f255', 'f257', 'f242', 'f240', 'f233', 'f229', 'f223']\n"
     ]
    }
   ],
   "source": [
    "from model_helper.feature_selection.wrapper import top_feat_search\n",
    "\n",
    "\n",
    "clf = DecisionTreeClassifier()\n",
    "subset, effect = top_feat_search(df, label, top_ratio_list=[0.95, 0.9, 0.85, 0.8, 0.75, 0.7],\n",
    "                                   model=clf, k_fold=3, random_state=666)\n",
    "print(effect, subset)"
   ]
  },
  {
   "cell_type": "markdown",
   "metadata": {},
   "source": [
    "## 4. lvw\n",
    "\n",
    "lvw，Las Vegas Wrpper，每次从当前最优的特征子集进行新的特征子集的选取，所以lvw是一个串行执行的算法，所以未实现其对应的多进程版本，其参数的使用方式和**随机搜索**类似。\n",
    "\n",
    "### 4.1 方法1\n",
    "通过交叉验证来评估特征子集的效果。"
   ]
  },
  {
   "cell_type": "code",
   "execution_count": 11,
   "metadata": {
    "ExecuteTime": {
     "end_time": "2019-12-03T09:50:38.574145Z",
     "start_time": "2019-12-03T09:48:09.634713Z"
    },
    "scrolled": true
   },
   "outputs": [
    {
     "name": "stdout",
     "output_type": "stream",
     "text": [
      "initialize effect 0.7702002216603497, cost time 4, with feat_dim 300, with param None\n",
      "round 1 start...\n",
      "effect subset is 0.7671971007959272, feature dim is 240, cost 3 seconds.\n",
      "round 2 start...\n",
      "effect subset is 0.7671971007959272, feature dim is 240, cost 3 seconds.\n",
      "round 3 start...\n",
      "effect subset is 0.7671971007959272, feature dim is 240, cost 3 seconds.\n",
      "round 4 start...\n",
      "effect subset is 0.7671971007959272, feature dim is 240, cost 3 seconds.\n",
      "round 5 start...\n",
      "effect subset is 0.7671971007959272, feature dim is 240, cost 3 seconds.\n",
      "round 6 start...\n",
      "effect subset is 0.7671971007959272, feature dim is 240, cost 3 seconds.\n",
      "round 7 start...\n",
      "effect subset is 0.7671971007959272, feature dim is 240, cost 3 seconds.\n",
      "round 8 start...\n",
      "effect subset is 0.7671971007959272, feature dim is 240, cost 3 seconds.\n",
      "round 9 start...\n",
      "effect subset is 0.7671971007959272, feature dim is 240, cost 3 seconds.\n",
      "round 10 start...\n",
      "effect subset is 0.7671971007959272, feature dim is 240, cost 3 seconds.\n",
      "round 11 start...\n",
      "effect subset is 0.7671971007959272, feature dim is 240, cost 3 seconds.\n",
      "round 12 start...\n",
      "effect subset is 0.7671971007959272, feature dim is 240, cost 3 seconds.\n",
      "round 13 start...\n",
      "effect subset is 0.7671971007959272, feature dim is 240, cost 3 seconds.\n",
      "round 14 start...\n",
      "effect subset is 0.7671971007959272, feature dim is 240, cost 3 seconds.\n",
      "round 15 start...\n",
      "effect subset is 0.7671971007959272, feature dim is 240, cost 3 seconds.\n",
      "round 16 start...\n",
      "effect subset is 0.7671971007959272, feature dim is 240, cost 3 seconds.\n",
      "round 17 start...\n",
      "effect subset is 0.7671971007959272, feature dim is 240, cost 3 seconds.\n",
      "round 18 start...\n",
      "effect subset is 0.7671971007959272, feature dim is 240, cost 3 seconds.\n",
      "round 19 start...\n",
      "effect subset is 0.7671971007959272, feature dim is 240, cost 3 seconds.\n",
      "round 20 start...\n",
      "effect subset is 0.7671971007959272, feature dim is 240, cost 3 seconds.\n",
      "round 21 start...\n",
      "effect subset is 0.7671971007959272, feature dim is 240, cost 3 seconds.\n",
      "round 22 start...\n",
      "effect subset is 0.7671971007959272, feature dim is 240, cost 3 seconds.\n",
      "round 23 start...\n",
      "effect subset is 0.7671971007959272, feature dim is 240, cost 3 seconds.\n",
      "round 24 start...\n",
      "effect subset is 0.7671971007959272, feature dim is 240, cost 3 seconds.\n",
      "round 25 start...\n",
      "effect subset is 0.7671971007959272, feature dim is 240, cost 3 seconds.\n",
      "round 26 start...\n",
      "effect subset is 0.7671971007959272, feature dim is 240, cost 3 seconds.\n",
      "round 27 start...\n",
      "effect subset is 0.7671971007959272, feature dim is 240, cost 3 seconds.\n",
      "round 28 start...\n",
      "effect subset is 0.7671971007959272, feature dim is 240, cost 3 seconds.\n",
      "round 29 start...\n",
      "effect subset is 0.7671971007959272, feature dim is 240, cost 3 seconds.\n",
      "round 30 start...\n",
      "effect subset is 0.7671971007959272, feature dim is 240, cost 3 seconds.\n",
      "round 31 start...\n",
      "effect subset is 0.7671971007959272, feature dim is 240, cost 3 seconds.\n",
      "round 32 start...\n",
      "effect subset is 0.7671971007959272, feature dim is 240, cost 3 seconds.\n",
      "round 33 start...\n",
      "effect subset is 0.7671971007959272, feature dim is 240, cost 3 seconds.\n",
      "round 34 start...\n",
      "effect subset is 0.7671971007959272, feature dim is 240, cost 3 seconds.\n",
      "round 35 start...\n",
      "effect subset is 0.7671971007959272, feature dim is 240, cost 3 seconds.\n",
      "round 36 start...\n",
      "effect subset is 0.7671971007959272, feature dim is 240, cost 3 seconds.\n",
      "round 37 start...\n",
      "effect subset is 0.7671971007959272, feature dim is 240, cost 3 seconds.\n",
      "round 38 start...\n",
      "effect subset is 0.7671971007959272, feature dim is 240, cost 3 seconds.\n",
      "round 39 start...\n",
      "effect subset is 0.7671971007959272, feature dim is 240, cost 3 seconds.\n",
      "round 40 start...\n",
      "effect subset is 0.7671971007959272, feature dim is 240, cost 3 seconds.\n",
      "all round end.\n",
      "best effect is 0.7702002216603497, best feature dim 300, input feat dim is 300\n",
      "0.7702002216603497 ['f0', 'f1', 'f2', 'f3', 'f4', 'f5', 'f6', 'f7', 'f8', 'f9', 'f10', 'f11', 'f12', 'f13', 'f14', 'f15', 'f16', 'f17', 'f18', 'f19', 'f20', 'f21', 'f22', 'f23', 'f24', 'f25', 'f26', 'f27', 'f28', 'f29', 'f30', 'f31', 'f32', 'f33', 'f34', 'f35', 'f36', 'f37', 'f38', 'f39', 'f40', 'f41', 'f42', 'f43', 'f44', 'f45', 'f46', 'f47', 'f48', 'f49', 'f50', 'f51', 'f52', 'f53', 'f54', 'f55', 'f56', 'f57', 'f58', 'f59', 'f60', 'f61', 'f62', 'f63', 'f64', 'f65', 'f66', 'f67', 'f68', 'f69', 'f70', 'f71', 'f72', 'f73', 'f74', 'f75', 'f76', 'f77', 'f78', 'f79', 'f80', 'f81', 'f82', 'f83', 'f84', 'f85', 'f86', 'f87', 'f88', 'f89', 'f90', 'f91', 'f92', 'f93', 'f94', 'f95', 'f96', 'f97', 'f98', 'f99', 'f100', 'f101', 'f102', 'f103', 'f104', 'f105', 'f106', 'f107', 'f108', 'f109', 'f110', 'f111', 'f112', 'f113', 'f114', 'f115', 'f116', 'f117', 'f118', 'f119', 'f120', 'f121', 'f122', 'f123', 'f124', 'f125', 'f126', 'f127', 'f128', 'f129', 'f130', 'f131', 'f132', 'f133', 'f134', 'f135', 'f136', 'f137', 'f138', 'f139', 'f140', 'f141', 'f142', 'f143', 'f144', 'f145', 'f146', 'f147', 'f148', 'f149', 'f150', 'f151', 'f152', 'f153', 'f154', 'f155', 'f156', 'f157', 'f158', 'f159', 'f160', 'f161', 'f162', 'f163', 'f164', 'f165', 'f166', 'f167', 'f168', 'f169', 'f170', 'f171', 'f172', 'f173', 'f174', 'f175', 'f176', 'f177', 'f178', 'f179', 'f180', 'f181', 'f182', 'f183', 'f184', 'f185', 'f186', 'f187', 'f188', 'f189', 'f190', 'f191', 'f192', 'f193', 'f194', 'f195', 'f196', 'f197', 'f198', 'f199', 'f200', 'f201', 'f202', 'f203', 'f204', 'f205', 'f206', 'f207', 'f208', 'f209', 'f210', 'f211', 'f212', 'f213', 'f214', 'f215', 'f216', 'f217', 'f218', 'f219', 'f220', 'f221', 'f222', 'f223', 'f224', 'f225', 'f226', 'f227', 'f228', 'f229', 'f230', 'f231', 'f232', 'f233', 'f234', 'f235', 'f236', 'f237', 'f238', 'f239', 'f240', 'f241', 'f242', 'f243', 'f244', 'f245', 'f246', 'f247', 'f248', 'f249', 'f250', 'f251', 'f252', 'f253', 'f254', 'f255', 'f256', 'f257', 'f258', 'f259', 'f260', 'f261', 'f262', 'f263', 'f264', 'f265', 'f266', 'f267', 'f268', 'f269', 'f270', 'f271', 'f272', 'f273', 'f274', 'f275', 'f276', 'f277', 'f278', 'f279', 'f280', 'f281', 'f282', 'f283', 'f284', 'f285', 'f286', 'f287', 'f288', 'f289', 'f290', 'f291', 'f292', 'f293', 'f294', 'f295', 'f296', 'f297', 'f298', 'f299']\n"
     ]
    }
   ],
   "source": [
    "from model_helper.feature_selection.wrapper import lvw\n",
    "\n",
    "clf = DecisionTreeClassifier()\n",
    "\n",
    "subset, effect = lvw(df, label, clf, k_fold=3, sample=0.8, max_iter=40, random_state=667)\n",
    "print(effect, subset)"
   ]
  },
  {
   "cell_type": "markdown",
   "metadata": {},
   "source": [
    "## 5. 分布式特征选择 \n",
    "\n",
    "分布式特征选择中，将上述随机搜索、模型重要性选取和模型重要性top list这三种方式进行了实现，集成在一个方法中，因为lvw串行进行，所以没有实现该算法。   \n",
    "\n",
    "其使用方式和上面基本一致，不同之处需要传入一个spark session，因为本地没有搭建分布式环境，具体的使用方式可以参考目录`../tests/test_distribute_feature_select.py`"
   ]
  },
  {
   "cell_type": "code",
   "execution_count": null,
   "metadata": {},
   "outputs": [],
   "source": []
  }
 ],
 "metadata": {
  "kernelspec": {
   "display_name": "Python 3",
   "language": "python",
   "name": "python3"
  },
  "language_info": {
   "codemirror_mode": {
    "name": "ipython",
    "version": 3
   },
   "file_extension": ".py",
   "mimetype": "text/x-python",
   "name": "python",
   "nbconvert_exporter": "python",
   "pygments_lexer": "ipython3",
   "version": "3.6.8"
  },
  "toc": {
   "base_numbering": 1,
   "nav_menu": {},
   "number_sections": false,
   "sideBar": true,
   "skip_h1_title": false,
   "title_cell": "Table of Contents",
   "title_sidebar": "Contents",
   "toc_cell": false,
   "toc_position": {},
   "toc_section_display": true,
   "toc_window_display": false
  },
  "varInspector": {
   "cols": {
    "lenName": 16,
    "lenType": 16,
    "lenVar": 40
   },
   "kernels_config": {
    "python": {
     "delete_cmd_postfix": "",
     "delete_cmd_prefix": "del ",
     "library": "var_list.py",
     "varRefreshCmd": "print(var_dic_list())"
    },
    "r": {
     "delete_cmd_postfix": ") ",
     "delete_cmd_prefix": "rm(",
     "library": "var_list.r",
     "varRefreshCmd": "cat(var_dic_list()) "
    }
   },
   "types_to_exclude": [
    "module",
    "function",
    "builtin_function_or_method",
    "instance",
    "_Feature"
   ],
   "window_display": false
  }
 },
 "nbformat": 4,
 "nbformat_minor": 2
}
