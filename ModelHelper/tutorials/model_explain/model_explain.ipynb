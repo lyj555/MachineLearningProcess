{
 "cells": [
  {
   "cell_type": "markdown",
   "metadata": {},
   "source": [
    "# Model Explain\n",
    "\n",
    "整体分为两大模块，分别为机器学习模型的解释和深度模型的解释。\n",
    "\n",
    "> 目前整体模型的解释核心均是基于`shap`包进行了封装\n",
    "\n",
    "## 1. 机器学习模型\n",
    "\n",
    "目前机器学习模型部分可供解释的模型主要为树模型，分别为XGBoost、LightGBM和RandomForest，对模型的解释主要为对样本预测的概率进行解释，将其分解到每个特征的得分上，特征得分越高则对增益越大，越小则增益越小。\n",
    "\n",
    "\n",
    "下面以`lightgbm`模型为例进行讲解（`xgboost`和`RandomForest`模型和此方式完全一致）"
   ]
  },
  {
   "cell_type": "code",
   "execution_count": 1,
   "metadata": {
    "ExecuteTime": {
     "end_time": "2019-12-04T08:15:39.429126Z",
     "start_time": "2019-12-04T08:15:36.217579Z"
    }
   },
   "outputs": [
    {
     "name": "stdout",
     "output_type": "stream",
     "text": [
      "Training until validation scores don't improve for 50 rounds.\n",
      "Early stopping, best iteration is:\n",
      "[683]\tvalid_0's binary_logloss: 0.277144\n"
     ]
    }
   ],
   "source": [
    "# 构建数据集和训练\n",
    "\n",
    "import lightgbm as lgb\n",
    "from sklearn.model_selection import train_test_split\n",
    "import shap\n",
    "\n",
    "import warnings\n",
    "\n",
    "warnings.filterwarnings(action=\"ignore\", category=UserWarning)\n",
    "\n",
    "X, y = shap.datasets.adult()\n",
    "X_train, X_test, y_train, y_test = train_test_split(X, y, test_size=0.2, random_state=7)\n",
    "d_train = lgb.Dataset(X_train, label=y_train)\n",
    "d_test = lgb.Dataset(X_test, label=y_test)\n",
    "\n",
    "params = {\n",
    "    \"max_bin\": 512,\n",
    "    \"learning_rate\": 0.05,\n",
    "    \"boosting_type\": \"gbdt\",\n",
    "    \"objective\": \"binary\",\n",
    "    \"metric\": \"binary_logloss\",\n",
    "    \"num_leaves\": 10,\n",
    "    \"verbose\": -1,\n",
    "    \"min_data\": 100,\n",
    "    \"boost_from_average\": True\n",
    "}\n",
    "\n",
    "model = lgb.train(params, d_train, 10000, valid_sets=[d_test], early_stopping_rounds=50, verbose_eval=1000)  # 模型训练"
   ]
  },
  {
   "cell_type": "markdown",
   "metadata": {},
   "source": [
    "### 1.1 特征选取策略\n",
    "\n",
    "对于训练好的模型做解释时，目的是选择对最终得分增益最高的特征，基于此想法，构建了四种不同的特征选取策略，分别为`max_shap`, `min_shap`,`abs_shap`,`threshold`。\n",
    "\n",
    "#### 最大shap值\n",
    "按照最大shap值策略进行top特征的选取，这种方式选取的特征代表**最大正向促进了最终样本的得分**。"
   ]
  },
  {
   "cell_type": "code",
   "execution_count": 2,
   "metadata": {
    "ExecuteTime": {
     "end_time": "2019-12-04T08:15:50.276762Z",
     "start_time": "2019-12-04T08:15:46.195210Z"
    }
   },
   "outputs": [
    {
     "name": "stderr",
     "output_type": "stream",
     "text": [
      "/home/liuyongjie/anaconda3/lib/python3.6/importlib/_bootstrap.py:219: RuntimeWarning: numpy.dtype size changed, may indicate binary incompatibility. Expected 96, got 88\n",
      "  return f(*args, **kwds)\n",
      "/home/liuyongjie/anaconda3/lib/python3.6/site-packages/h5py/__init__.py:36: FutureWarning: Conversion of the second argument of issubdtype from `float` to `np.floating` is deprecated. In future, it will be treated as `np.float64 == np.dtype(float).type`.\n",
      "  from ._conv import register_converters as _register_converters\n",
      "Using TensorFlow backend.\n"
     ]
    },
    {
     "name": "stdout",
     "output_type": "stream",
     "text": [
      "data columns num is 12, feature_group set None, so default feature group is 1, all columns. 12 features not in feature_meaning_dic,these features will use the feature name.\n",
      "最终生成的解释理由应该和预测样本量一致，预测样本量是6513, 最终生成的解释理由量是6513, 前五个样本的解释理由为\n",
      "第1个样本模型预测值为0.03967370348493667，理由为'Occupation value is 4.0,Age value is 39.0'\n",
      "第2个样本模型预测值为0.6556555160466638，理由为'Hours per week value is 58.0,Age value is 48.0'\n",
      "第3个样本模型预测值为0.04575937619782967，理由为'Marital Status value is 2.0,Relationship value is 4.0'\n",
      "第4个样本模型预测值为0.012177821611011226，理由为'Sex value is 1.0,Occupation value is 4.0'\n",
      "第5个样本模型预测值为0.3810618084187876，理由为'Relationship value is 4.0,Age value is 50.0'\n"
     ]
    }
   ],
   "source": [
    "from model_helper.model_explain import lgb_explain\n",
    "\n",
    "pred = model.predict(X_test)  # 模型预测\n",
    "\n",
    "reasons = lgb_explain(X_test, model, top_feature_num=2, strategy=\"max_shap\")  # 每个样本取top2的最大shap值所应的特征，并返回特征的取值，将其拼接为字符串\n",
    "\n",
    "print(f\"最终生成的解释理由应该和预测样本量一致，预测样本量是{len(pred)}, 最终生成的解释理由量是{len(reasons)}, 前五个样本的解释理由为\")\n",
    "for i in range(5):\n",
    "    print(f\"第{i+1}个样本模型预测值为{pred[i]}，理由为'{reasons[i]}'\")"
   ]
  },
  {
   "cell_type": "markdown",
   "metadata": {
    "ExecuteTime": {
     "end_time": "2019-12-04T06:04:19.596085Z",
     "start_time": "2019-12-04T06:04:19.577570Z"
    }
   },
   "source": [
    "#### 最小shap值\n",
    "\n",
    "按照最小shap值策略进行top特征的选取，这种方式选取的特征代表**最大负向促进了最终样本的得分**。"
   ]
  },
  {
   "cell_type": "code",
   "execution_count": 3,
   "metadata": {
    "ExecuteTime": {
     "end_time": "2019-12-04T08:16:01.788325Z",
     "start_time": "2019-12-04T08:15:58.677970Z"
    }
   },
   "outputs": [
    {
     "name": "stdout",
     "output_type": "stream",
     "text": [
      "data columns num is 12, feature_group set None, so default feature group is 1, all columns. 12 features not in feature_meaning_dic,these features will use the feature name.\n",
      "最终生成的解释理由应该和预测样本量一致，预测样本量是6513, 最终生成的解释理由量是6513, 前五个样本的解释理由为\n",
      "第1个样本模型预测值为0.03967370348493667，理由为'Sex value is 0.0,Relationship value is 1.0'\n",
      "第2个样本模型预测值为0.6556555160466638，理由为'Capital Gain value is 0.0,Relationship value is 1.0'\n",
      "第3个样本模型预测值为0.04575937619782967，理由为'Capital Gain value is 0.0,Age value is 22.0'\n",
      "第4个样本模型预测值为0.012177821611011226，理由为'Relationship value is 0.0,Age value is 23.0'\n",
      "第5个样本模型预测值为0.3810618084187876，理由为'Capital Gain value is 0.0,Hours per week value is 8.0'\n"
     ]
    }
   ],
   "source": [
    "from model_helper.model_explain import lgb_explain\n",
    "\n",
    "pred = model.predict(X_test)  # 模型预测\n",
    "\n",
    "reasons = lgb_explain(X_test, model, top_feature_num=2, strategy=\"min_shap\")  # 每个样本取top2的最小shap值所应的特征，并返回特征的取值，将其拼接为字符串\n",
    "print(f\"最终生成的解释理由应该和预测样本量一致，预测样本量是{len(pred)}, 最终生成的解释理由量是{len(reasons)}, 前五个样本的解释理由为\")\n",
    "for i in range(5):\n",
    "    print(f\"第{i+1}个样本模型预测值为{pred[i]}，理由为'{reasons[i]}'\")"
   ]
  },
  {
   "cell_type": "markdown",
   "metadata": {},
   "source": [
    "#### shap绝对值\n",
    "\n",
    "按照绝对值shap值策略进行top特征的选取，这种方式选取的特征代表**最大贡献促进了最终样本的得分**。"
   ]
  },
  {
   "cell_type": "code",
   "execution_count": 4,
   "metadata": {
    "ExecuteTime": {
     "end_time": "2019-12-04T08:16:10.856505Z",
     "start_time": "2019-12-04T08:16:07.585349Z"
    }
   },
   "outputs": [
    {
     "name": "stdout",
     "output_type": "stream",
     "text": [
      "data columns num is 12, feature_group set None, so default feature group is 1, all columns. 12 features not in feature_meaning_dic,these features will use the feature name.\n",
      "最终生成的解释理由应该和预测样本量一致，预测样本量是6513, 最终生成的解释理由量是6513, 前五个样本的解释理由为\n",
      "第1个样本模型预测值为0.03967370348493667，理由为'Age value is 39.0,Relationship value is 1.0'\n",
      "第2个样本模型预测值为0.6556555160466638，理由为'Hours per week value is 58.0,Age value is 48.0'\n",
      "第3个样本模型预测值为0.04575937619782967，理由为'Relationship value is 4.0,Age value is 22.0'\n",
      "第4个样本模型预测值为0.012177821611011226，理由为'Relationship value is 0.0,Age value is 23.0'\n",
      "第5个样本模型预测值为0.3810618084187876，理由为'Hours per week value is 8.0,Age value is 50.0'\n"
     ]
    }
   ],
   "source": [
    "from model_helper.model_explain import lgb_explain\n",
    "\n",
    "pred = model.predict(X_test)  # 模型预测\n",
    "\n",
    "reasons = lgb_explain(X_test, model, top_feature_num=2, strategy=\"abs_shap\")  # 每个样本取top2的绝对值shap值所应的特征，并返回特征的取值，将其拼接为字符串\n",
    "\n",
    "print(f\"最终生成的解释理由应该和预测样本量一致，预测样本量是{len(pred)}, 最终生成的解释理由量是{len(reasons)}, 前五个样本的解释理由为\")\n",
    "\n",
    "for i in range(5):\n",
    "    print(f\"第{i+1}个样本模型预测值为{pred[i]}，理由为'{reasons[i]}'\")"
   ]
  },
  {
   "cell_type": "markdown",
   "metadata": {},
   "source": [
    "#### 概率阈值\n",
    "\n",
    "按照预测概率阈值进行top特征选取，如果概率大于设定的阈值，则该样本按照`max_shap`方式进行特征选取，否则按照`min_shap`方式进行特征的选取。"
   ]
  },
  {
   "cell_type": "code",
   "execution_count": 5,
   "metadata": {
    "ExecuteTime": {
     "end_time": "2019-12-04T08:16:20.386886Z",
     "start_time": "2019-12-04T08:16:16.954632Z"
    }
   },
   "outputs": [
    {
     "name": "stdout",
     "output_type": "stream",
     "text": [
      "data columns num is 12, feature_group set None, so default feature group is 1, all columns. 12 features not in feature_meaning_dic,these features will use the feature name.\n",
      "最终生成的解释理由应该和预测样本量一致，预测样本量是6513, 最终生成的解释理由量是6513, 前五个样本的解释理由为\n",
      "第1个样本模型预测值为0.03967370348493667，理由为'Sex value is 0.0,Relationship value is 1.0'\n",
      "第2个样本模型预测值为0.6556555160466638，理由为'Hours per week value is 58.0,Age value is 48.0'\n",
      "第3个样本模型预测值为0.04575937619782967，理由为'Capital Gain value is 0.0,Age value is 22.0'\n",
      "第4个样本模型预测值为0.012177821611011226，理由为'Relationship value is 0.0,Age value is 23.0'\n",
      "第5个样本模型预测值为0.3810618084187876，理由为'Capital Gain value is 0.0,Hours per week value is 8.0'\n"
     ]
    }
   ],
   "source": [
    "from model_helper.model_explain import lgb_explain\n",
    "\n",
    "pred = model.predict(X_test)  # 模型预测\n",
    "\n",
    "reasons = lgb_explain(X_test, model, top_feature_num=2, strategy=\"threshold\", prob_threshold=0.5)\n",
    "\n",
    "print(f\"最终生成的解释理由应该和预测样本量一致，预测样本量是{len(pred)}, 最终生成的解释理由量是{len(reasons)}, 前五个样本的解释理由为\")\n",
    "\n",
    "for i in range(5):\n",
    "    print(f\"第{i+1}个样本模型预测值为{pred[i]}，理由为'{reasons[i]}'\")"
   ]
  },
  {
   "cell_type": "markdown",
   "metadata": {},
   "source": [
    "### 1.2 特征分组\n",
    "\n",
    "特征分组相当于输入特征按照业务或者其它规则分为不同的组，然后从不同的组中选取top shap值的特征，\n",
    "\n",
    "分组形如`[(\"f1\", \"f2\", \"f3\"), (\"f4\", \"f5\", \"f6\"), (\"f7\", \"f8\")]`，上面的方式相当于只有一个特征分区，里面包含全量的特征。\n",
    "按照特征的分组的方式同样支持上面的四种特征选取策略，下面仅以一个例子为例其余参考上面即可。"
   ]
  },
  {
   "cell_type": "code",
   "execution_count": 6,
   "metadata": {
    "ExecuteTime": {
     "end_time": "2019-12-04T08:16:30.405171Z",
     "start_time": "2019-12-04T08:16:27.265053Z"
    }
   },
   "outputs": [
    {
     "name": "stdout",
     "output_type": "stream",
     "text": [
      "data columns num is 12, feature_group num 3, contain feature num is 10.\n",
      "in feature_group, 10 features not in feature_meaning_dic, these features will use the feature name.\n",
      "最终生成的解释理由应该和预测样本量一致，预测样本量是6513, 最终生成的解释理由量是6513, 前五个样本的解释理由为\n",
      "第1个样本模型预测值为0.03967370348493667，理由为'Age value is 39.0,Occupation value is 4.0'\n",
      "第2个样本模型预测值为0.6556555160466638，理由为'Age value is 48.0,Education-Num value is 13.0'\n",
      "第3个样本模型预测值为0.04575937619782967，理由为'Sex value is 1.0,Marital Status value is 2.0'\n",
      "第4个样本模型预测值为0.012177821611011226，理由为'Sex value is 1.0,Occupation value is 4.0'\n",
      "第5个样本模型预测值为0.3810618084187876，理由为'Age value is 50.0,Education-Num value is 13.0'\n"
     ]
    }
   ],
   "source": [
    "from model_helper.model_explain import lgb_explain\n",
    "\n",
    "feature_group = [(\"Age\", \"Sex\", \"Workclass\"), (\"Education-Num\", \"Marital Status\", \"Occupation\", \"Capital Loss\"), (\"Hours per week\", \"Capital Gain\", \"Relationship\")]\n",
    "\n",
    "reasons = lgb_explain(X_test, model, top_feature_num=2, strategy=\"max_shap\", feature_group=feature_group)\n",
    "\n",
    "print(f\"最终生成的解释理由应该和预测样本量一致，预测样本量是{len(pred)}, 最终生成的解释理由量是{len(reasons)}, 前五个样本的解释理由为\")\n",
    "\n",
    "for i in range(5):\n",
    "    print(f\"第{i+1}个样本模型预测值为{pred[i]}，理由为'{reasons[i]}'\")"
   ]
  },
  {
   "cell_type": "markdown",
   "metadata": {},
   "source": [
    "### 1.3 自定义输出格式\n",
    "\n",
    "在上面输出中，默认输出的格式为`特征名+ value is 特征值`的 输出模式，可以自定义拼接方式。"
   ]
  },
  {
   "cell_type": "code",
   "execution_count": 7,
   "metadata": {
    "ExecuteTime": {
     "end_time": "2019-12-04T08:16:40.878687Z",
     "start_time": "2019-12-04T08:16:37.812191Z"
    }
   },
   "outputs": [
    {
     "name": "stdout",
     "output_type": "stream",
     "text": [
      "data columns num is 12, feature_group num 3, contain feature num is 10.\n",
      "最终生成的解释理由应该和预测样本量一致，预测样本量是6513, 最终生成的解释理由量是6513, 前五个样本的解释理由为\n",
      "第1个样本模型预测值为0.03967370348493667，理由为'Age_meaning: 39.0,Occupation_meaning: 4.0'\n",
      "第2个样本模型预测值为0.6556555160466638，理由为'Age_meaning: 48.0,Education-Num_meaning: 13.0'\n",
      "第3个样本模型预测值为0.04575937619782967，理由为'Sex_meaning: 1.0,Marital Status_meaning: 2.0'\n",
      "第4个样本模型预测值为0.012177821611011226，理由为'Sex_meaning: 1.0,Occupation_meaning: 4.0'\n",
      "第5个样本模型预测值为0.3810618084187876，理由为'Age_meaning: 50.0,Education-Num_meaning: 13.0'\n"
     ]
    }
   ],
   "source": [
    "feature_meaning_dic = {i: f\"{i}_meaning\" for i in X_test.columns}  # 特征名具体含义\n",
    "\n",
    "def self_func(feature_value_pair, feature_meaning_dic):\n",
    "    ret = []\n",
    "    for feature, feature_value in feature_value_pair:\n",
    "        feature_meaning = feature_meaning_dic.get(feature, feature)  # if no this key meaning, use key instead\n",
    "        ret.append(f\"{feature_meaning}: {feature_value}\")\n",
    "    return \",\".join(ret)\n",
    "\n",
    "feature_group = [(\"Age\", \"Sex\", \"Workclass\"), (\"Education-Num\", \"Marital Status\", \"Occupation\", \"Capital Loss\"), (\"Hours per week\", \"Capital Gain\", \"Relationship\")] # 特征分组\n",
    "reasons = lgb_explain(X_test, model, top_feature_num=2, strategy=\"max_shap\", feature_group=feature_group, feature_meaning_dic=feature_meaning_dic, verbal_express=self_func)\n",
    "\n",
    "print(f\"最终生成的解释理由应该和预测样本量一致，预测样本量是{len(pred)}, 最终生成的解释理由量是{len(reasons)}, 前五个样本的解释理由为\")\n",
    "\n",
    "for i in range(5):\n",
    "    print(f\"第{i+1}个样本模型预测值为{pred[i]}，理由为'{reasons[i]}'\")"
   ]
  },
  {
   "cell_type": "markdown",
   "metadata": {},
   "source": [
    "## 2. 深度模型解释\n",
    "\n",
    "深度模型部分，目前分为两块一个是图像，另外一块是文本。\n",
    "\n",
    "> 这部分主要测试的模型均是基于keras构建的\n",
    "\n",
    "### 2.1 图像\n",
    "\n",
    "图像部分支持最终输出层的ndim为2和3（包含batch_size维度）"
   ]
  },
  {
   "cell_type": "code",
   "execution_count": 8,
   "metadata": {
    "ExecuteTime": {
     "end_time": "2019-12-04T08:18:58.783226Z",
     "start_time": "2019-12-04T08:16:47.298130Z"
    }
   },
   "outputs": [
    {
     "name": "stdout",
     "output_type": "stream",
     "text": [
      "x_train shape: (60000, 28, 28, 1)\n",
      "60000 train samples\n",
      "10000 test samples\n",
      "Train on 60000 samples, validate on 10000 samples\n",
      "Epoch 1/1\n",
      "60000/60000 [==============================] - 123s 2ms/step - loss: 0.2700 - acc: 0.9178 - val_loss: 0.0611 - val_acc: 0.9804\n",
      "Test loss: 0.06111625169534236\n",
      "Test accuracy: 0.9804\n",
      "_________________________________________________________________\n",
      "Layer (type)                 Output Shape              Param #   \n",
      "=================================================================\n",
      "conv2d_1 (Conv2D)            (None, 26, 26, 32)        320       \n",
      "_________________________________________________________________\n",
      "conv2d_2 (Conv2D)            (None, 24, 24, 64)        18496     \n",
      "_________________________________________________________________\n",
      "max_pooling2d_1 (MaxPooling2 (None, 12, 12, 64)        0         \n",
      "_________________________________________________________________\n",
      "dropout_1 (Dropout)          (None, 12, 12, 64)        0         \n",
      "_________________________________________________________________\n",
      "flatten_1 (Flatten)          (None, 9216)              0         \n",
      "_________________________________________________________________\n",
      "dense_1 (Dense)              (None, 128)               1179776   \n",
      "_________________________________________________________________\n",
      "dropout_2 (Dropout)          (None, 128)               0         \n",
      "_________________________________________________________________\n",
      "dense_2 (Dense)              (None, 10)                1290      \n",
      "=================================================================\n",
      "Total params: 1,199,882\n",
      "Trainable params: 1,199,882\n",
      "Non-trainable params: 0\n",
      "_________________________________________________________________\n"
     ]
    }
   ],
   "source": [
    "# 手写数字图像识别，数据加载以及模型搭建和训练\n",
    "\n",
    "from __future__ import print_function\n",
    "import keras\n",
    "from keras.datasets import mnist\n",
    "from keras.models import Sequential\n",
    "from keras.layers import Dense, Dropout, Flatten\n",
    "from keras.layers import Conv2D, MaxPooling2D\n",
    "from keras import backend as K\n",
    "\n",
    "batch_size = 128\n",
    "num_classes = 10\n",
    "epochs = 1\n",
    "\n",
    "# input image dimensions\n",
    "img_rows, img_cols = 28, 28\n",
    "\n",
    "# the data, split between train and test sets\n",
    "(x_train, y_train), (x_test, y_test) = mnist.load_data()\n",
    "\n",
    "if K.image_data_format() == 'channels_first':\n",
    "    x_train = x_train.reshape(x_train.shape[0], 1, img_rows, img_cols)\n",
    "    x_test = x_test.reshape(x_test.shape[0], 1, img_rows, img_cols)\n",
    "    input_shape = (1, img_rows, img_cols)\n",
    "else:\n",
    "    x_train = x_train.reshape(x_train.shape[0], img_rows, img_cols, 1)\n",
    "    x_test = x_test.reshape(x_test.shape[0], img_rows, img_cols, 1)\n",
    "    input_shape = (img_rows, img_cols, 1)\n",
    "\n",
    "x_train = x_train.astype('float32')\n",
    "x_test = x_test.astype('float32')\n",
    "x_train /= 255\n",
    "x_test /= 255\n",
    "print('x_train shape:', x_train.shape)\n",
    "print(x_train.shape[0], 'train samples')\n",
    "print(x_test.shape[0], 'test samples')\n",
    "\n",
    "# convert class vectors to binary class matrices\n",
    "y_train = keras.utils.to_categorical(y_train, num_classes)\n",
    "y_test = keras.utils.to_categorical(y_test, num_classes)\n",
    "\n",
    "model = Sequential()\n",
    "model.add(Conv2D(32, kernel_size=(3, 3),\n",
    "activation='relu',\n",
    "input_shape=input_shape))\n",
    "model.add(Conv2D(64, (3, 3), activation='relu'))\n",
    "model.add(MaxPooling2D(pool_size=(2, 2)))\n",
    "model.add(Dropout(0.25))\n",
    "model.add(Flatten())\n",
    "model.add(Dense(128, activation='relu'))\n",
    "model.add(Dropout(0.5))\n",
    "model.add(Dense(num_classes, activation='softmax'))\n",
    "\n",
    "model.compile(loss=keras.losses.categorical_crossentropy,\n",
    "optimizer=keras.optimizers.Adadelta(),\n",
    "metrics=['accuracy'])\n",
    "\n",
    "model.fit(x_train, y_train,\n",
    "batch_size=batch_size,\n",
    "epochs=epochs,\n",
    "verbose=1,\n",
    "validation_data=(x_test, y_test))\n",
    "score = model.evaluate(x_test, y_test, verbose=0)\n",
    "print('Test loss:', score[0])\n",
    "print('Test accuracy:', score[1])\n",
    "\n",
    "model.summary()"
   ]
  },
  {
   "cell_type": "markdown",
   "metadata": {},
   "source": [
    "#### 模型解释\n",
    "\n",
    "目前解释部分的策略只有一种，对作出的预测 给出图形上的展示。"
   ]
  },
  {
   "cell_type": "code",
   "execution_count": 9,
   "metadata": {
    "ExecuteTime": {
     "end_time": "2019-12-04T08:19:07.503727Z",
     "start_time": "2019-12-04T08:18:59.083960Z"
    }
   },
   "outputs": [
    {
     "name": "stdout",
     "output_type": "stream",
     "text": [
      "1/4 is processing...\n",
      "\t1/1 is plotting...\n",
      "1/4 done, cost 1\n",
      "2/4 is processing...\n",
      "\t1/1 is plotting...\n",
      "2/4 done, cost 2\n",
      "3/4 is processing...\n",
      "\t1/1 is plotting...\n",
      "3/4 done, cost 1\n",
      "4/4 is processing...\n",
      "\t1/1 is plotting...\n",
      "4/4 done, cost 1\n"
     ]
    },
    {
     "data": {
      "image/png": "[encoded data removed]",
      "text/plain": [
       "<matplotlib.figure.Figure at 0x7fcd4ca35c18>"
      ]
     },
     "metadata": {},
     "output_type": "display_data"
    }
   ],
   "source": [
    "from model_helper.model_explain import explain_image_plot\n",
    "\n",
    "# create backgroud sample, the more the sample number, the more accurate the plot \n",
    "background = x_train[np.random.choice(x_train.shape[0], 100, replace=False)]\n",
    "fig, ax = explain_image_plot(x_test[1:5], model, background)  # 对其中四个样本作出解释"
   ]
  },
  {
   "cell_type": "markdown",
   "metadata": {},
   "source": [
    "### 2.2 文本\n",
    "\n",
    "图像部分支持最终输出层的ndim为2（包含batch_size维度）"
   ]
  },
  {
   "cell_type": "code",
   "execution_count": 10,
   "metadata": {
    "ExecuteTime": {
     "end_time": "2019-12-04T08:25:35.434921Z",
     "start_time": "2019-12-04T08:19:07.682444Z"
    }
   },
   "outputs": [
    {
     "name": "stdout",
     "output_type": "stream",
     "text": [
      "Loading data...\n",
      "25000 train sequences\n",
      "25000 test sequences\n",
      "Pad sequences (samples x time)\n",
      "x_train shape: (25000, 80)\n",
      "x_test shape: (25000, 80)\n",
      "Build model...\n",
      "Train...\n",
      "Train on 25000 samples, validate on 25000 samples\n",
      "Epoch 1/1\n",
      "25000/25000 [==============================] - 334s 13ms/step - loss: 0.4599 - acc: 0.7827 - val_loss: 0.4123 - val_acc: 0.8159\n",
      "25000/25000 [==============================] - 47s 2ms/step\n",
      "Test score: 0.4123319964790344\n",
      "Test accuracy: 0.81592\n"
     ]
    }
   ],
   "source": [
    "# 文本分类数据加载和训练\n",
    "\n",
    "from keras.preprocessing import sequence\n",
    "from keras.models import Sequential\n",
    "from keras.layers import Dense, Embedding\n",
    "from keras.layers import LSTM\n",
    "from keras.datasets import imdb\n",
    "\n",
    "\n",
    "max_features = 20000\n",
    "maxlen = 80  # cut texts after this number of words (among top max_features most common words)\n",
    "batch_size = 32\n",
    "\n",
    "print('Loading data...')\n",
    "(x_train, y_train), (x_test, y_test) = imdb.load_data(num_words=max_features)\n",
    "print(len(x_train), 'train sequences')\n",
    "print(len(x_test), 'test sequences')\n",
    "\n",
    "print('Pad sequences (samples x time)')\n",
    "x_train = sequence.pad_sequences(x_train, maxlen=maxlen)\n",
    "x_test = sequence.pad_sequences(x_test, maxlen=maxlen)\n",
    "print('x_train shape:', x_train.shape)\n",
    "print('x_test shape:', x_test.shape)\n",
    "\n",
    "print('Build model...')\n",
    "model = Sequential()\n",
    "model.add(Embedding(max_features, 128))\n",
    "model.add(LSTM(128, dropout=0.2, recurrent_dropout=0.2))\n",
    "model.add(Dense(1, activation='sigmoid'))\n",
    "\n",
    "\n",
    "model.compile(loss='binary_crossentropy',\n",
    "              optimizer='adam',\n",
    "              metrics=['accuracy'])\n",
    "\n",
    "print('Train...')\n",
    "model.fit(x_train, y_train,\n",
    "          batch_size=batch_size,\n",
    "          epochs=1,\n",
    "          validation_data=(x_test, y_test))\n",
    "score, acc = model.evaluate(x_test, y_test,\n",
    "                            batch_size=batch_size)\n",
    "print('Test score:', score)\n",
    "print('Test accuracy:', acc)"
   ]
  },
  {
   "cell_type": "markdown",
   "metadata": {},
   "source": [
    "#### 2.2.1 模型解释\n",
    "\n",
    "解释部分最终可以分解为对最终的预测中，每个输入的词的一个得分。\n",
    "\n",
    "\n",
    "#### 选取策略\n",
    "\n",
    "类似机器学习模型解释部分的特征选取策略，这里分为四种`min`、`max`和`abs`和None（输出原始的整句话）。\n",
    "返回的解释结果中是一个三元组，其中第一个为输入的文本（index或者word），第二为输入文本对应的shap值，最后一个为预测对应的index（预测类别对应的位置）"
   ]
  },
  {
   "cell_type": "code",
   "execution_count": 11,
   "metadata": {
    "ExecuteTime": {
     "end_time": "2019-12-04T08:25:40.416459Z",
     "start_time": "2019-12-04T08:25:35.688558Z"
    }
   },
   "outputs": [
    {
     "name": "stdout",
     "output_type": "stream",
     "text": [
      "共解释了2个样本\n",
      "第1个样本：\n",
      "([179, 717], [0.055808417630123584, 0.04994702937033253], 0)\n",
      "第2个样本：\n",
      "([818, 472], [0.09124832981685813, -0.06742123246962137], 0)\n"
     ]
    }
   ],
   "source": [
    "from model_helper.model_explain import explain_text_model\n",
    "\n",
    "\n",
    "xx_test = x_test[:2]\n",
    "\n",
    "\n",
    "r = explain_text_model(texts=xx_test, model=model, \n",
    "                       background_sample=x_train[:20], \n",
    "                       strategy=\"abs\",\n",
    "                       top_n_words=2)\n",
    "\n",
    "print(f\"共解释了{len(xx_test)}个样本\")\n",
    "\n",
    "for i in range(len(xx_test)):\n",
    "    print(f\"第{i+1}个样本：\")\n",
    "    print(r[i])"
   ]
  },
  {
   "cell_type": "markdown",
   "metadata": {},
   "source": [
    "#### 指定词典\n",
    "\n",
    "上面部分得出的是对应的输入的index，可以输入对应的词典，key表示index，value表示对应的解释。"
   ]
  },
  {
   "cell_type": "code",
   "execution_count": 12,
   "metadata": {
    "ExecuteTime": {
     "end_time": "2019-12-04T08:25:45.239495Z",
     "start_time": "2019-12-04T08:25:40.698039Z"
    }
   },
   "outputs": [
    {
     "name": "stdout",
     "output_type": "stream",
     "text": [
      "共解释了2个样本\n",
      "第1个样本：\n",
      "(['world', 'sequence'], [0.055808417630123584, 0.04994702937033253], 0)\n",
      "第2个样本：\n",
      "(['realistic', '\\x96'], [0.09124832981685813, -0.06742123246962137], 0)\n"
     ]
    }
   ],
   "source": [
    "from model_helper.model_explain import explain_text_model\n",
    "\n",
    "\n",
    "xx_test = x_test[:2]\n",
    "\n",
    "\n",
    "words = imdb.get_word_index()\n",
    "num2word = {}\n",
    "for w in words.keys():\n",
    "    num2word[words[w]] = w\n",
    "num2word[0] = \"padding\"\n",
    "\n",
    "\n",
    "r = explain_text_model(texts=xx_test, model=model, \n",
    "                       background_sample=x_train[:20], \n",
    "                       strategy=\"abs\",\n",
    "                       top_n_words=2, vocab_dic=num2word)\n",
    "\n",
    "print(f\"共解释了{len(xx_test)}个样本\")\n",
    "\n",
    "for i in range(len(xx_test)):\n",
    "    print(f\"第{i+1}个样本：\")\n",
    "    print(r[i])"
   ]
  },
  {
   "cell_type": "markdown",
   "metadata": {
    "ExecuteTime": {
     "end_time": "2019-12-04T08:12:04.779746Z",
     "start_time": "2019-12-04T08:12:04.763053Z"
    }
   },
   "source": [
    "#### padding index\n",
    "可以指定对应的padding index是否解释。"
   ]
  },
  {
   "cell_type": "code",
   "execution_count": 13,
   "metadata": {
    "ExecuteTime": {
     "end_time": "2019-12-04T08:25:49.196574Z",
     "start_time": "2019-12-04T08:25:45.729644Z"
    }
   },
   "outputs": [
    {
     "name": "stdout",
     "output_type": "stream",
     "text": [
      "共解释了2个样本\n",
      "第1个样本：\n",
      "([179, 717], [0.055808417630123584, 0.04994702937033253], 0)\n",
      "第2个样本：\n",
      "([818, 472], [0.09124832981685813, -0.06742123246962137], 0)\n"
     ]
    }
   ],
   "source": [
    "from model_helper.model_explain import explain_text_model\n",
    "\n",
    "\n",
    "xx_test = x_test[:2]\n",
    "\n",
    "\n",
    "r = explain_text_model(texts=xx_test, model=model, \n",
    "                       background_sample=x_train[:20], \n",
    "                       strategy=\"abs\",\n",
    "                       explain_padding_index=False,\n",
    "                       padding_index=0, \n",
    "                       top_n_words=2)\n",
    "\n",
    "print(f\"共解释了{len(xx_test)}个样本\")\n",
    "\n",
    "for i in range(len(xx_test)):\n",
    "    print(f\"第{i+1}个样本：\")\n",
    "    print(r[i])"
   ]
  },
  {
   "cell_type": "code",
   "execution_count": null,
   "metadata": {},
   "outputs": [],
   "source": []
  }
 ],
 "metadata": {
  "kernelspec": {
   "display_name": "Python 3",
   "language": "python",
   "name": "python3"
  },
  "language_info": {
   "codemirror_mode": {
    "name": "ipython",
    "version": 3
   },
   "file_extension": ".py",
   "mimetype": "text/x-python",
   "name": "python",
   "nbconvert_exporter": "python",
   "pygments_lexer": "ipython3",
   "version": "3.6.8"
  },
  "toc": {
   "base_numbering": 1,
   "nav_menu": {},
   "number_sections": false,
   "sideBar": true,
   "skip_h1_title": false,
   "title_cell": "Table of Contents",
   "title_sidebar": "Contents",
   "toc_cell": false,
   "toc_position": {},
   "toc_section_display": true,
   "toc_window_display": true
  },
  "varInspector": {
   "cols": {
    "lenName": 16,
    "lenType": 16,
    "lenVar": 40
   },
   "kernels_config": {
    "python": {
     "delete_cmd_postfix": "",
     "delete_cmd_prefix": "del ",
     "library": "var_list.py",
     "varRefreshCmd": "print(var_dic_list())"
    },
    "r": {
     "delete_cmd_postfix": ") ",
     "delete_cmd_prefix": "rm(",
     "library": "var_list.r",
     "varRefreshCmd": "cat(var_dic_list()) "
    }
   },
   "types_to_exclude": [
    "module",
    "function",
    "builtin_function_or_method",
    "instance",
    "_Feature"
   ],
   "window_display": false
  }
 },
 "nbformat": 4,
 "nbformat_minor": 2
}
