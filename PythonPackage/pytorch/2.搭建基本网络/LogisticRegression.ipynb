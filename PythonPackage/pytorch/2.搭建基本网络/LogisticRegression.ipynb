{
 "cells": [
  {
   "cell_type": "code",
   "execution_count": 1,
   "metadata": {
    "ExecuteTime": {
     "end_time": "2020-04-21T08:03:54.835920Z",
     "start_time": "2020-04-21T08:03:54.479736Z"
    }
   },
   "outputs": [],
   "source": [
    "import numpy as np\n",
    "import torch\n",
    "from torch import nn"
   ]
  },
  {
   "cell_type": "code",
   "execution_count": 2,
   "metadata": {
    "ExecuteTime": {
     "end_time": "2020-04-21T08:03:56.863621Z",
     "start_time": "2020-04-21T08:03:56.849796Z"
    }
   },
   "outputs": [
    {
     "name": "stdout",
     "output_type": "stream",
     "text": [
      "1.2.0\n"
     ]
    }
   ],
   "source": [
    "print(torch.__version__)"
   ]
  },
  {
   "cell_type": "code",
   "execution_count": 3,
   "metadata": {
    "ExecuteTime": {
     "end_time": "2020-04-21T08:04:01.867343Z",
     "start_time": "2020-04-21T08:04:01.806922Z"
    }
   },
   "outputs": [
    {
     "name": "stdout",
     "output_type": "stream",
     "text": [
      "x shape (100, 4), y shape (100, 1)\n"
     ]
    }
   ],
   "source": [
    "# 构造数据\n",
    "sample_num, feature_num = 100, 4\n",
    "\n",
    "x = 10*np.random.rand(sample_num, feature_num)\n",
    "y = np.random.choice([1, 0], size=(sample_num, 1), replace=True, p=[0.4, 0.6])\n",
    "\n",
    "x = x.astype(np.float32)\n",
    "y = y.astype(np.float32)\n",
    "\n",
    "print(f\"x shape {x.shape}, y shape {y.shape}\")"
   ]
  },
  {
   "cell_type": "code",
   "execution_count": 4,
   "metadata": {
    "ExecuteTime": {
     "end_time": "2020-04-21T08:04:04.212239Z",
     "start_time": "2020-04-21T08:04:04.156917Z"
    }
   },
   "outputs": [],
   "source": [
    "# 通过pytorch搭建一个逻辑回归的模型\n",
    "\n",
    "# Logistic Regression Model\n",
    "class logisticRegression(nn.Module):\n",
    "    def __init__(self, input_dim):\n",
    "        super(logisticRegression, self).__init__()\n",
    "        self.linear = nn.Linear(input_dim, 1)  # input and output is 1 dimension\n",
    "        self.sigmoid = nn.Sigmoid()\n",
    "\n",
    "    def forward(self, x):\n",
    "        pred = self.sigmoid(self.linear(x))\n",
    "        return pred\n",
    "    "
   ]
  },
  {
   "cell_type": "code",
   "execution_count": 5,
   "metadata": {
    "ExecuteTime": {
     "end_time": "2020-04-21T08:04:07.617939Z",
     "start_time": "2020-04-21T08:04:07.598375Z"
    }
   },
   "outputs": [],
   "source": [
    "model = logisticRegression(input_dim=x.shape[1])  # 初始化模型"
   ]
  },
  {
   "cell_type": "code",
   "execution_count": 6,
   "metadata": {
    "ExecuteTime": {
     "end_time": "2020-04-21T08:04:09.648623Z",
     "start_time": "2020-04-21T08:04:09.632674Z"
    }
   },
   "outputs": [],
   "source": [
    "criterion = nn.BCELoss(reduction='mean')  # 定义损失（返回的损失求均值）\n",
    "optimizer = torch.optim.SGD(model.parameters(), lr=1e-4)  # 定义优化算法"
   ]
  },
  {
   "cell_type": "code",
   "execution_count": 7,
   "metadata": {
    "ExecuteTime": {
     "end_time": "2020-04-21T08:04:15.566148Z",
     "start_time": "2020-04-21T08:04:15.359551Z"
    }
   },
   "outputs": [
    {
     "name": "stdout",
     "output_type": "stream",
     "text": [
      "Epoch[20/500], loss: 1.198569\n",
      "Epoch[40/500], loss: 1.189955\n",
      "Epoch[60/500], loss: 1.181588\n",
      "Epoch[80/500], loss: 1.173462\n",
      "Epoch[100/500], loss: 1.165574\n",
      "Epoch[120/500], loss: 1.157918\n",
      "Epoch[140/500], loss: 1.150490\n",
      "Epoch[160/500], loss: 1.143285\n",
      "Epoch[180/500], loss: 1.136297\n",
      "Epoch[200/500], loss: 1.129521\n",
      "Epoch[220/500], loss: 1.122953\n",
      "Epoch[240/500], loss: 1.116587\n",
      "Epoch[260/500], loss: 1.110417\n",
      "Epoch[280/500], loss: 1.104439\n",
      "Epoch[300/500], loss: 1.098648\n",
      "Epoch[320/500], loss: 1.093037\n",
      "Epoch[340/500], loss: 1.087603\n",
      "Epoch[360/500], loss: 1.082339\n",
      "Epoch[380/500], loss: 1.077240\n",
      "Epoch[400/500], loss: 1.072302\n",
      "Epoch[420/500], loss: 1.067519\n",
      "Epoch[440/500], loss: 1.062886\n",
      "Epoch[460/500], loss: 1.058399\n",
      "Epoch[480/500], loss: 1.054051\n",
      "Epoch[500/500], loss: 1.049839\n"
     ]
    }
   ],
   "source": [
    "# 开始训练\n",
    "x_train, y_train = torch.from_numpy(x), torch.from_numpy(y)\n",
    "\n",
    "num_epochs = 500\n",
    "for epoch in range(num_epochs):\n",
    "    # forward\n",
    "    out = model(x_train)\n",
    "    loss = criterion(out, y_train)\n",
    "    # backward\n",
    "    optimizer.zero_grad()  # 梯度归零\n",
    "    loss.backward()  # 梯度反向传播\n",
    "    optimizer.step()  # 参数更新\n",
    "\n",
    "    if (epoch+1) % 20 == 0:\n",
    "        print(f'Epoch[{epoch+1}/{num_epochs}], loss: {loss.item():.6f}')"
   ]
  },
  {
   "cell_type": "code",
   "execution_count": 8,
   "metadata": {
    "ExecuteTime": {
     "end_time": "2020-04-21T08:04:33.519240Z",
     "start_time": "2020-04-21T08:04:33.495169Z"
    }
   },
   "outputs": [
    {
     "data": {
      "text/plain": [
       "torch.Size([100, 1])"
      ]
     },
     "execution_count": 8,
     "metadata": {},
     "output_type": "execute_result"
    }
   ],
   "source": [
    "out.shape"
   ]
  },
  {
   "cell_type": "code",
   "execution_count": 9,
   "metadata": {
    "ExecuteTime": {
     "end_time": "2020-04-21T08:04:45.555157Z",
     "start_time": "2020-04-21T08:04:45.536670Z"
    }
   },
   "outputs": [
    {
     "data": {
      "text/plain": [
       "torch.Size([100, 1])"
      ]
     },
     "execution_count": 9,
     "metadata": {},
     "output_type": "execute_result"
    }
   ],
   "source": [
    "y_train.shape"
   ]
  },
  {
   "cell_type": "code",
   "execution_count": 14,
   "metadata": {
    "ExecuteTime": {
     "end_time": "2020-04-14T09:15:40.386572Z",
     "start_time": "2020-04-14T09:15:40.368911Z"
    }
   },
   "outputs": [],
   "source": [
    "# model.eval()\n",
    "with torch.no_grad():\n",
    "    predict = model(x_train)\n",
    "predict = predict.data.numpy()"
   ]
  },
  {
   "cell_type": "code",
   "execution_count": 15,
   "metadata": {
    "ExecuteTime": {
     "end_time": "2020-04-14T09:15:45.842288Z",
     "start_time": "2020-04-14T09:15:45.758515Z"
    },
    "scrolled": true
   },
   "outputs": [
    {
     "data": {
      "text/plain": [
       "array([[0.27345043],\n",
       "       [0.36393762],\n",
       "       [0.6868362 ],\n",
       "       [0.25546786],\n",
       "       [0.61006206],\n",
       "       [0.72979796],\n",
       "       [0.46900403],\n",
       "       [0.27101445],\n",
       "       [0.16262816],\n",
       "       [0.3423653 ],\n",
       "       [0.5886599 ],\n",
       "       [0.375029  ],\n",
       "       [0.26407716],\n",
       "       [0.6246542 ],\n",
       "       [0.65678626],\n",
       "       [0.6295154 ],\n",
       "       [0.6105429 ],\n",
       "       [0.65320593],\n",
       "       [0.15047261],\n",
       "       [0.6750747 ],\n",
       "       [0.22045764],\n",
       "       [0.30315977],\n",
       "       [0.35955623],\n",
       "       [0.56939435],\n",
       "       [0.60646755],\n",
       "       [0.6439688 ],\n",
       "       [0.60035497],\n",
       "       [0.65521574],\n",
       "       [0.43785092],\n",
       "       [0.7919345 ],\n",
       "       [0.51724076],\n",
       "       [0.40558314],\n",
       "       [0.5414581 ],\n",
       "       [0.35765746],\n",
       "       [0.51283467],\n",
       "       [0.3138045 ],\n",
       "       [0.4290123 ],\n",
       "       [0.5532914 ],\n",
       "       [0.41070023],\n",
       "       [0.26581916],\n",
       "       [0.22030559],\n",
       "       [0.37135276],\n",
       "       [0.5747645 ],\n",
       "       [0.7144943 ],\n",
       "       [0.706154  ],\n",
       "       [0.38461822],\n",
       "       [0.5588487 ],\n",
       "       [0.58404905],\n",
       "       [0.15448032],\n",
       "       [0.3806592 ],\n",
       "       [0.16486199],\n",
       "       [0.20586318],\n",
       "       [0.48501545],\n",
       "       [0.19563857],\n",
       "       [0.40014195],\n",
       "       [0.30532467],\n",
       "       [0.14235847],\n",
       "       [0.5263896 ],\n",
       "       [0.23296896],\n",
       "       [0.4092053 ],\n",
       "       [0.52259654],\n",
       "       [0.36225203],\n",
       "       [0.46382177],\n",
       "       [0.49002463],\n",
       "       [0.42281905],\n",
       "       [0.6346755 ],\n",
       "       [0.5712299 ],\n",
       "       [0.4836344 ],\n",
       "       [0.56574136],\n",
       "       [0.3372769 ],\n",
       "       [0.26466215],\n",
       "       [0.41748428],\n",
       "       [0.21702594],\n",
       "       [0.3624122 ],\n",
       "       [0.6776177 ],\n",
       "       [0.42281264],\n",
       "       [0.2876819 ],\n",
       "       [0.6231145 ],\n",
       "       [0.2103773 ],\n",
       "       [0.68910563],\n",
       "       [0.7567788 ],\n",
       "       [0.54881316],\n",
       "       [0.5317222 ],\n",
       "       [0.8251842 ],\n",
       "       [0.6043959 ],\n",
       "       [0.5389561 ],\n",
       "       [0.22865038],\n",
       "       [0.25362766],\n",
       "       [0.3245293 ],\n",
       "       [0.5895054 ],\n",
       "       [0.7778754 ],\n",
       "       [0.28733054],\n",
       "       [0.11469145],\n",
       "       [0.12410869],\n",
       "       [0.26485455],\n",
       "       [0.32354775],\n",
       "       [0.4434787 ],\n",
       "       [0.36204   ],\n",
       "       [0.22898223],\n",
       "       [0.7398021 ]], dtype=float32)"
      ]
     },
     "execution_count": 15,
     "metadata": {},
     "output_type": "execute_result"
    }
   ],
   "source": [
    "predict"
   ]
  },
  {
   "cell_type": "code",
   "execution_count": 10,
   "metadata": {
    "ExecuteTime": {
     "end_time": "2020-04-21T08:20:15.143636Z",
     "start_time": "2020-04-21T08:20:15.136344Z"
    }
   },
   "outputs": [
    {
     "data": {
      "text/plain": [
       "torch.Size([100, 1])"
      ]
     },
     "execution_count": 10,
     "metadata": {},
     "output_type": "execute_result"
    }
   ],
   "source": [
    "y_train.shape"
   ]
  }
 ],
 "metadata": {
  "kernelspec": {
   "display_name": "Python 3",
   "language": "python",
   "name": "python3"
  },
  "language_info": {
   "codemirror_mode": {
    "name": "ipython",
    "version": 3
   },
   "file_extension": ".py",
   "mimetype": "text/x-python",
   "name": "python",
   "nbconvert_exporter": "python",
   "pygments_lexer": "ipython3",
   "version": "3.6.8"
  },
  "toc": {
   "base_numbering": 1,
   "nav_menu": {},
   "number_sections": false,
   "sideBar": true,
   "skip_h1_title": false,
   "title_cell": "Table of Contents",
   "title_sidebar": "Contents",
   "toc_cell": false,
   "toc_position": {},
   "toc_section_display": true,
   "toc_window_display": false
  },
  "varInspector": {
   "cols": {
    "lenName": 16,
    "lenType": 16,
    "lenVar": 40
   },
   "kernels_config": {
    "python": {
     "delete_cmd_postfix": "",
     "delete_cmd_prefix": "del ",
     "library": "var_list.py",
     "varRefreshCmd": "print(var_dic_list())"
    },
    "r": {
     "delete_cmd_postfix": ") ",
     "delete_cmd_prefix": "rm(",
     "library": "var_list.r",
     "varRefreshCmd": "cat(var_dic_list()) "
    }
   },
   "types_to_exclude": [
    "module",
    "function",
    "builtin_function_or_method",
    "instance",
    "_Feature"
   ],
   "window_display": false
  }
 },
 "nbformat": 4,
 "nbformat_minor": 2
}
