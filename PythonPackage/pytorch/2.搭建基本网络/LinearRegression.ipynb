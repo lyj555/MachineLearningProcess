{
 "cells": [
  {
   "cell_type": "code",
   "execution_count": 1,
   "metadata": {
    "ExecuteTime": {
     "end_time": "2020-04-14T03:05:06.800158Z",
     "start_time": "2020-04-14T03:05:06.795410Z"
    }
   },
   "outputs": [
    {
     "name": "stdout",
     "output_type": "stream",
     "text": [
      "3.6.8 |Anaconda, Inc.| (default, Dec 30 2018, 01:22:34) \n",
      "[GCC 7.3.0]\n"
     ]
    }
   ],
   "source": [
    "import sys\n",
    "print(sys.version)"
   ]
  },
  {
   "cell_type": "code",
   "execution_count": 21,
   "metadata": {
    "ExecuteTime": {
     "end_time": "2020-04-14T03:31:06.859794Z",
     "start_time": "2020-04-14T03:31:06.602148Z"
    }
   },
   "outputs": [],
   "source": [
    "import numpy as np\n",
    "import torch\n",
    "from torch import nn\n",
    "\n",
    "import matplotlib.pyplot as plt "
   ]
  },
  {
   "cell_type": "code",
   "execution_count": 51,
   "metadata": {
    "ExecuteTime": {
     "end_time": "2020-04-14T03:49:07.337877Z",
     "start_time": "2020-04-14T03:49:07.316518Z"
    }
   },
   "outputs": [],
   "source": [
    "# 构造数据集\n",
    "# sample_num, feature_num = 100, 4\n",
    "\n",
    "# w = np.random.rand(4)\n",
    "# b = np.random.rand(1).item()\n",
    "\n",
    "# x = 10*np.random.rand(sample_num, feature_num)\n",
    "# y = np.dot(x, w) + b + np.random.randn(sample_num)\n",
    "# y = np.expand_dims(y, axis=1)\n",
    "\n",
    "# x = x.astype(np.float32)\n",
    "# y = y.astype(np.float32)\n",
    "\n",
    "# print(f\"x shape {x.shape}, y shape {y.shape}\")\n",
    "\n",
    "\n",
    "x = np.array([[3.3], [4.4], [5.5], [6.71], [6.93], [4.168],\n",
    "                    [9.779], [6.182], [7.59], [2.167], [7.042],\n",
    "                    [10.791], [5.313], [7.997], [3.1]], dtype=np.float32)\n",
    "\n",
    "y = np.array([[1.7], [2.76], [2.09], [3.19], [1.694], [1.573],\n",
    "                    [3.366], [2.596], [2.53], [1.221], [2.827],\n",
    "                    [3.465], [1.65], [2.904], [1.3]], dtype=np.float32)"
   ]
  },
  {
   "cell_type": "code",
   "execution_count": 53,
   "metadata": {
    "ExecuteTime": {
     "end_time": "2020-04-14T03:49:16.589280Z",
     "start_time": "2020-04-14T03:49:16.352450Z"
    }
   },
   "outputs": [
    {
     "data": {
      "image/png": "[encoded data removed]",
      "text/plain": [
       "<Figure size 432x288 with 1 Axes>"
      ]
     },
     "metadata": {},
     "output_type": "display_data"
    }
   ],
   "source": [
    "plt.plot(np.squeeze(x), np.squeeze(y), \"ro\")\n",
    "plt.show()"
   ]
  },
  {
   "cell_type": "code",
   "execution_count": 55,
   "metadata": {
    "ExecuteTime": {
     "end_time": "2020-04-14T03:49:33.700824Z",
     "start_time": "2020-04-14T03:49:33.660984Z"
    }
   },
   "outputs": [],
   "source": [
    "# 通过pytorch搭建一个线性回归的模型\n",
    "\n",
    "# Linear Regression Model\n",
    "class linearRegression(nn.Module):\n",
    "    def __init__(self, input_dim, output_dim):\n",
    "        super(linearRegression, self).__init__()\n",
    "        self.linear = nn.Linear(input_dim, output_dim)  # input and output is 1 dimension\n",
    "\n",
    "    def forward(self, x):\n",
    "        out = self.linear(x)\n",
    "        return out"
   ]
  },
  {
   "cell_type": "code",
   "execution_count": 57,
   "metadata": {
    "ExecuteTime": {
     "end_time": "2020-04-14T03:50:40.684056Z",
     "start_time": "2020-04-14T03:50:40.671658Z"
    }
   },
   "outputs": [],
   "source": [
    "model = linearRegression(input_dim=x.shape[1], output_dim=y.shape[1])\n",
    "# 定义loss和优化函数\n",
    "criterion = nn.MSELoss()\n",
    "optimizer = torch.optim.SGD(model.parameters(), lr=1e-4)"
   ]
  },
  {
   "cell_type": "code",
   "execution_count": 58,
   "metadata": {
    "ExecuteTime": {
     "end_time": "2020-04-14T03:50:43.976470Z",
     "start_time": "2020-04-14T03:50:43.694298Z"
    }
   },
   "outputs": [
    {
     "name": "stdout",
     "output_type": "stream",
     "text": [
      "Epoch[20/1000], loss: 0.718822\n",
      "Epoch[40/1000], loss: 0.653607\n",
      "Epoch[60/1000], loss: 0.607419\n",
      "Epoch[80/1000], loss: 0.574677\n",
      "Epoch[100/1000], loss: 0.551438\n",
      "Epoch[120/1000], loss: 0.534916\n",
      "Epoch[140/1000], loss: 0.523141\n",
      "Epoch[160/1000], loss: 0.514721\n",
      "Epoch[180/1000], loss: 0.508672\n",
      "Epoch[200/1000], loss: 0.504300\n",
      "Epoch[220/1000], loss: 0.501111\n",
      "Epoch[240/1000], loss: 0.498760\n",
      "Epoch[260/1000], loss: 0.497001\n",
      "Epoch[280/1000], loss: 0.495660\n",
      "Epoch[300/1000], loss: 0.494615\n",
      "Epoch[320/1000], loss: 0.493779\n",
      "Epoch[340/1000], loss: 0.493091\n",
      "Epoch[360/1000], loss: 0.492508\n",
      "Epoch[380/1000], loss: 0.491999\n",
      "Epoch[400/1000], loss: 0.491542\n",
      "Epoch[420/1000], loss: 0.491122\n",
      "Epoch[440/1000], loss: 0.490729\n",
      "Epoch[460/1000], loss: 0.490354\n",
      "Epoch[480/1000], loss: 0.489993\n",
      "Epoch[500/1000], loss: 0.489641\n",
      "Epoch[520/1000], loss: 0.489297\n",
      "Epoch[540/1000], loss: 0.488956\n",
      "Epoch[560/1000], loss: 0.488620\n",
      "Epoch[580/1000], loss: 0.488286\n",
      "Epoch[600/1000], loss: 0.487954\n",
      "Epoch[620/1000], loss: 0.487624\n",
      "Epoch[640/1000], loss: 0.487295\n",
      "Epoch[660/1000], loss: 0.486967\n",
      "Epoch[680/1000], loss: 0.486639\n",
      "Epoch[700/1000], loss: 0.486312\n",
      "Epoch[720/1000], loss: 0.485986\n",
      "Epoch[740/1000], loss: 0.485660\n",
      "Epoch[760/1000], loss: 0.485335\n",
      "Epoch[780/1000], loss: 0.485010\n",
      "Epoch[800/1000], loss: 0.484685\n",
      "Epoch[820/1000], loss: 0.484361\n",
      "Epoch[840/1000], loss: 0.484037\n",
      "Epoch[860/1000], loss: 0.483713\n",
      "Epoch[880/1000], loss: 0.483390\n",
      "Epoch[900/1000], loss: 0.483067\n",
      "Epoch[920/1000], loss: 0.482744\n",
      "Epoch[940/1000], loss: 0.482422\n",
      "Epoch[960/1000], loss: 0.482100\n",
      "Epoch[980/1000], loss: 0.481779\n",
      "Epoch[1000/1000], loss: 0.481457\n"
     ]
    }
   ],
   "source": [
    "# 开始训练\n",
    "x_train, y_train = torch.from_numpy(x), torch.from_numpy(y)\n",
    "\n",
    "num_epochs = 1000\n",
    "for epoch in range(num_epochs):\n",
    "    # forward\n",
    "    out = model(x_train)\n",
    "    loss = criterion(out, y_train)\n",
    "    # backward\n",
    "    optimizer.zero_grad()\n",
    "    loss.backward()\n",
    "    optimizer.step()\n",
    "\n",
    "    if (epoch+1) % 20 == 0:\n",
    "        print(f'Epoch[{epoch+1}/{num_epochs}], loss: {loss.item():.6f}')"
   ]
  },
  {
   "cell_type": "code",
   "execution_count": 59,
   "metadata": {
    "ExecuteTime": {
     "end_time": "2020-04-14T03:50:48.558791Z",
     "start_time": "2020-04-14T03:50:48.541536Z"
    }
   },
   "outputs": [],
   "source": [
    "model.eval()\n",
    "with torch.no_grad():\n",
    "    predict = model(x_train)\n",
    "predict = predict.data.numpy()"
   ]
  },
  {
   "cell_type": "code",
   "execution_count": 60,
   "metadata": {
    "ExecuteTime": {
     "end_time": "2020-04-14T03:50:51.581006Z",
     "start_time": "2020-04-14T03:50:51.369230Z"
    }
   },
   "outputs": [
    {
     "data": {
      "image/png": "[encoded data removed]",
      "text/plain": [
       "<Figure size 720x360 with 1 Axes>"
      ]
     },
     "metadata": {},
     "output_type": "display_data"
    }
   ],
   "source": [
    "fig = plt.figure(figsize=(10, 5))\n",
    "plt.plot(x_train.numpy(), y_train.numpy(), 'ro', label='Original data')\n",
    "plt.plot(x_train.numpy(), predict, \"bo\", label='Fitting data')\n",
    "# 显示图例\n",
    "plt.legend() \n",
    "plt.show()"
   ]
  },
  {
   "cell_type": "code",
   "execution_count": 61,
   "metadata": {
    "ExecuteTime": {
     "end_time": "2020-04-14T03:50:55.284286Z",
     "start_time": "2020-04-14T03:50:55.264433Z"
    }
   },
   "outputs": [
    {
     "data": {
      "text/plain": [
       "0.48144117"
      ]
     },
     "execution_count": 61,
     "metadata": {},
     "output_type": "execute_result"
    }
   ],
   "source": [
    "np.mean((predict - y)**2)"
   ]
  }
 ],
 "metadata": {
  "kernelspec": {
   "display_name": "Python 3",
   "language": "python",
   "name": "python3"
  },
  "language_info": {
   "codemirror_mode": {
    "name": "ipython",
    "version": 3
   },
   "file_extension": ".py",
   "mimetype": "text/x-python",
   "name": "python",
   "nbconvert_exporter": "python",
   "pygments_lexer": "ipython3",
   "version": "3.6.8"
  },
  "toc": {
   "base_numbering": 1,
   "nav_menu": {},
   "number_sections": false,
   "sideBar": true,
   "skip_h1_title": false,
   "title_cell": "Table of Contents",
   "title_sidebar": "Contents",
   "toc_cell": false,
   "toc_position": {},
   "toc_section_display": true,
   "toc_window_display": false
  },
  "varInspector": {
   "cols": {
    "lenName": 16,
    "lenType": 16,
    "lenVar": 40
   },
   "kernels_config": {
    "python": {
     "delete_cmd_postfix": "",
     "delete_cmd_prefix": "del ",
     "library": "var_list.py",
     "varRefreshCmd": "print(var_dic_list())"
    },
    "r": {
     "delete_cmd_postfix": ") ",
     "delete_cmd_prefix": "rm(",
     "library": "var_list.r",
     "varRefreshCmd": "cat(var_dic_list()) "
    }
   },
   "types_to_exclude": [
    "module",
    "function",
    "builtin_function_or_method",
    "instance",
    "_Feature"
   ],
   "window_display": false
  }
 },
 "nbformat": 4,
 "nbformat_minor": 2
}
