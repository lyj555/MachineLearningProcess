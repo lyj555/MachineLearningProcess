{
 "cells": [
  {
   "cell_type": "code",
   "execution_count": 10,
   "metadata": {
    "ExecuteTime": {
     "end_time": "2020-04-15T06:57:11.627684Z",
     "start_time": "2020-04-15T06:57:11.608612Z"
    }
   },
   "outputs": [],
   "source": [
    "import numpy as np\n",
    "import torch\n",
    "from torch import nn\n",
    "\n",
    "import matplotlib.pyplot as plt"
   ]
  },
  {
   "cell_type": "code",
   "execution_count": 16,
   "metadata": {
    "ExecuteTime": {
     "end_time": "2020-04-15T06:58:14.431573Z",
     "start_time": "2020-04-15T06:58:14.410311Z"
    }
   },
   "outputs": [
    {
     "name": "stdout",
     "output_type": "stream",
     "text": [
      "x shape (100, 20), y shape (100,)\n"
     ]
    }
   ],
   "source": [
    "# 构造图像数据\n",
    "\n",
    "sample_num, word_num, n_classes = 100, 30, 3\n",
    "seq_len = 20\n",
    "\n",
    "x = np.random.randint(low=0, high=word_num, size=(sample_num, seq_len), dtype=np.int32)\n",
    "y = np.random.randint(low=0, high=n_classes, size=(sample_num, ), dtype=np.int32)\n",
    "\n",
    "print(f\"x shape {x.shape}, y shape {y.shape}\")"
   ]
  },
  {
   "cell_type": "code",
   "execution_count": 12,
   "metadata": {
    "ExecuteTime": {
     "end_time": "2020-04-15T06:57:13.390252Z",
     "start_time": "2020-04-15T06:57:13.371329Z"
    }
   },
   "outputs": [
    {
     "data": {
      "text/plain": [
       "array([[18,  6, 18, ..., 16, 26,  6],\n",
       "       [25, 19,  9, ..., 24,  1,  3],\n",
       "       [28, 23,  7, ..., 26, 17, 25],\n",
       "       ...,\n",
       "       [17,  1, 17, ..., 21,  5, 11],\n",
       "       [14, 13, 29, ..., 27, 16, 19],\n",
       "       [ 0, 25, 15, ..., 13, 26, 10]], dtype=int32)"
      ]
     },
     "execution_count": 12,
     "metadata": {},
     "output_type": "execute_result"
    }
   ],
   "source": [
    "x"
   ]
  },
  {
   "cell_type": "code",
   "execution_count": 64,
   "metadata": {
    "ExecuteTime": {
     "end_time": "2020-04-15T07:19:43.527032Z",
     "start_time": "2020-04-15T07:19:43.432057Z"
    }
   },
   "outputs": [],
   "source": [
    "class RNN(nn.Module):\n",
    "    def __init__(self, vocab_size, seq_len, num_classes, embedding_dim=8, hidden_size=10):\n",
    "        super(RNN, self).__init__()\n",
    "        \n",
    "        self.vocab_size = vocab_size\n",
    "        self.embedding = nn.Embedding(num_embeddings=vocab_size, embedding_dim=embedding_dim)\n",
    "\n",
    "        self.rnn = nn.RNN(\n",
    "            input_size=embedding_dim,\n",
    "            hidden_size=hidden_size,     # rnn hidden unit\n",
    "            num_layers=3,       # number of rnn layer\n",
    "            batch_first=True,   # input & output will has batch size as 1s dimension. e.g. (batch, time_step, input_size)\n",
    "        )\n",
    "        self.fc = nn.Linear(hidden_size, num_classes)\n",
    "\n",
    "    def forward(self, x):\n",
    "        out = self.embedding(x)\n",
    "        out, _ = self.rnn(out)\n",
    "        out = out[:, -1, :]  # 剪掉一个维度，先当于只用之一句话的最后一个状态，由三维变化为二维\n",
    "        out = self.fc(out)\n",
    "        return out "
   ]
  },
  {
   "cell_type": "code",
   "execution_count": 65,
   "metadata": {
    "ExecuteTime": {
     "end_time": "2020-04-15T07:19:47.365633Z",
     "start_time": "2020-04-15T07:19:47.336795Z"
    }
   },
   "outputs": [
    {
     "name": "stdout",
     "output_type": "stream",
     "text": [
      "RNN(\n",
      "  (embedding): Embedding(30, 8)\n",
      "  (rnn): RNN(8, 10, num_layers=3, batch_first=True)\n",
      "  (fc): Linear(in_features=10, out_features=3, bias=True)\n",
      ")\n"
     ]
    }
   ],
   "source": [
    "model = RNN(vocab_size=word_num, seq_len=seq_len, num_classes=n_classes)\n",
    "print(model)\n",
    "\n",
    "use_gpu = torch.cuda.is_available()  # 判断是否有GPU加速\n",
    "if use_gpu:\n",
    "    model = model.cuda()\n",
    "\n",
    "# 定义loss和optimizer\n",
    "criterion = nn.CrossEntropyLoss()\n",
    "optimizer = torch.optim.SGD(model.parameters(), lr=1e-3)"
   ]
  },
  {
   "cell_type": "code",
   "execution_count": 66,
   "metadata": {
    "ExecuteTime": {
     "end_time": "2020-04-15T07:19:57.321622Z",
     "start_time": "2020-04-15T07:19:51.412556Z"
    }
   },
   "outputs": [
    {
     "name": "stdout",
     "output_type": "stream",
     "text": [
      "Epoch[20/500], loss: 1.110524\n",
      "Epoch[40/500], loss: 1.110019\n",
      "Epoch[60/500], loss: 1.109526\n",
      "Epoch[80/500], loss: 1.109042\n",
      "Epoch[100/500], loss: 1.108569\n",
      "Epoch[120/500], loss: 1.108105\n",
      "Epoch[140/500], loss: 1.107652\n",
      "Epoch[160/500], loss: 1.107207\n",
      "Epoch[180/500], loss: 1.106772\n",
      "Epoch[200/500], loss: 1.106344\n",
      "Epoch[220/500], loss: 1.105926\n",
      "Epoch[240/500], loss: 1.105516\n",
      "Epoch[260/500], loss: 1.105114\n",
      "Epoch[280/500], loss: 1.104720\n",
      "Epoch[300/500], loss: 1.104333\n",
      "Epoch[320/500], loss: 1.103954\n",
      "Epoch[340/500], loss: 1.103582\n",
      "Epoch[360/500], loss: 1.103217\n",
      "Epoch[380/500], loss: 1.102859\n",
      "Epoch[400/500], loss: 1.102507\n",
      "Epoch[420/500], loss: 1.102162\n",
      "Epoch[440/500], loss: 1.101823\n",
      "Epoch[460/500], loss: 1.101490\n",
      "Epoch[480/500], loss: 1.101163\n",
      "Epoch[500/500], loss: 1.100842\n"
     ]
    }
   ],
   "source": [
    "# 开始训练\n",
    "x_train, y_train = torch.LongTensor(x), torch.LongTensor(y)\n",
    "# torch.zeros(sample_num, n_classes).scatter_(1, torch.LongTensor(y), 1)\n",
    "# y_train = type(torch.LongTensor)\n",
    "\n",
    "num_epochs = 500\n",
    "for epoch in range(num_epochs):\n",
    "    # forward\n",
    "    out = model(x_train)\n",
    "    loss = criterion(out, y_train)\n",
    "    # backward\n",
    "    optimizer.zero_grad()  # 梯度归零\n",
    "    loss.backward()  # 梯度反向传播\n",
    "    optimizer.step()  # 参数更新\n",
    "\n",
    "    if (epoch+1) % 20 == 0:\n",
    "        print(f'Epoch[{epoch+1}/{num_epochs}], loss: {loss.item():.6f}')"
   ]
  },
  {
   "cell_type": "code",
   "execution_count": 67,
   "metadata": {
    "ExecuteTime": {
     "end_time": "2020-04-15T07:20:24.677286Z",
     "start_time": "2020-04-15T07:20:24.645071Z"
    }
   },
   "outputs": [],
   "source": [
    "with torch.no_grad():\n",
    "    predict = model(x_train)\n",
    "predict = predict.data.numpy()"
   ]
  },
  {
   "cell_type": "code",
   "execution_count": 68,
   "metadata": {
    "ExecuteTime": {
     "end_time": "2020-04-15T07:20:28.958037Z",
     "start_time": "2020-04-15T07:20:28.918989Z"
    }
   },
   "outputs": [
    {
     "data": {
      "text/plain": [
       "array([[-0.07068527, -0.22012332, -0.01737164],\n",
       "       [ 0.0863782 , -0.0467135 ,  0.13289216],\n",
       "       [ 0.02278072, -0.0218434 ,  0.18174088],\n",
       "       [-0.14376715, -0.27758366, -0.09171807],\n",
       "       [-0.25794128, -0.31541547, -0.21167192],\n",
       "       [ 0.12048702, -0.12473196,  0.00445241],\n",
       "       [-0.04920324, -0.11910459,  0.03360915],\n",
       "       [-0.12488468, -0.13310745, -0.00180935],\n",
       "       [ 0.14338186, -0.02986543,  0.06399147],\n",
       "       [-0.13030346, -0.12371926,  0.00507882],\n",
       "       [-0.10083167, -0.13477316,  0.0219079 ],\n",
       "       [ 0.07371041, -0.05099773,  0.22069904],\n",
       "       [ 0.18935221,  0.02289301,  0.22497487],\n",
       "       [-0.01867209, -0.07139479,  0.11718747],\n",
       "       [ 0.14879782, -0.16106819,  0.0092022 ],\n",
       "       [ 0.00520992, -0.06285569,  0.16947648],\n",
       "       [ 0.16829942,  0.02081484,  0.14616325],\n",
       "       [ 0.01529247, -0.07988949,  0.12312925],\n",
       "       [-0.04082021, -0.08008818,  0.06940278],\n",
       "       [ 0.28235388, -0.03930925,  0.1685369 ],\n",
       "       [ 0.22088383, -0.06033388,  0.15768662],\n",
       "       [ 0.02057967, -0.23129283,  0.01062047],\n",
       "       [-0.11909921, -0.26232892, -0.04404563],\n",
       "       [-0.01552248, -0.13178277,  0.09359966],\n",
       "       [ 0.1301722 ,  0.00513491,  0.17085469],\n",
       "       [-0.107769  , -0.16390844,  0.00489441],\n",
       "       [ 0.21955854, -0.00429699,  0.18711501],\n",
       "       [ 0.00241953, -0.2748635 ,  0.00150916],\n",
       "       [ 0.23745416, -0.1167012 ,  0.12003438],\n",
       "       [ 0.08761788, -0.11188439,  0.06687197],\n",
       "       [ 0.1500764 , -0.01229581,  0.22513202],\n",
       "       [ 0.00148365, -0.10642135, -0.0095887 ],\n",
       "       [ 0.09863323, -0.14317685, -0.04554693],\n",
       "       [-0.12899022, -0.10657883, -0.04632205],\n",
       "       [-0.1244473 , -0.09291406,  0.02375352],\n",
       "       [ 0.11844283, -0.02117601,  0.13899887],\n",
       "       [-0.06160531, -0.00112185,  0.10757662],\n",
       "       [ 0.1938289 , -0.09130889,  0.0492951 ],\n",
       "       [-0.22258253, -0.21176897, -0.1265829 ],\n",
       "       [-0.21751274, -0.2260237 , -0.08507001],\n",
       "       [-0.01156248, -0.06598526,  0.12080507],\n",
       "       [-0.0665931 , -0.09074527, -0.0011921 ],\n",
       "       [ 0.02109227,  0.04981446,  0.0536105 ],\n",
       "       [ 0.0106428 ,  0.00478137,  0.11884485],\n",
       "       [ 0.08242663, -0.03899133,  0.03682798],\n",
       "       [ 0.25035095, -0.1384135 ,  0.04106084],\n",
       "       [-0.14088057, -0.12098578, -0.07021146],\n",
       "       [-0.01729863, -0.19642906, -0.10956001],\n",
       "       [ 0.0511613 ,  0.01989752,  0.25194135],\n",
       "       [ 0.02455541,  0.00151891,  0.19015113],\n",
       "       [ 0.0565368 , -0.08558655,  0.08688539],\n",
       "       [ 0.2273346 ,  0.01387954,  0.0973208 ],\n",
       "       [-0.19364719, -0.18170169,  0.02447242],\n",
       "       [ 0.06475563, -0.2170296 , -0.12452421],\n",
       "       [ 0.07400788, -0.10615164,  0.13004819],\n",
       "       [-0.02976646, -0.10312998,  0.0968398 ],\n",
       "       [ 0.09597895, -0.03397936,  0.01060715],\n",
       "       [ 0.0894794 , -0.10895532,  0.02095024],\n",
       "       [ 0.26840284, -0.02100657,  0.23187837],\n",
       "       [-0.10846177, -0.12314296,  0.07949251],\n",
       "       [ 0.1759081 , -0.10361309,  0.1428647 ],\n",
       "       [ 0.0663356 ,  0.01426965,  0.24512884],\n",
       "       [ 0.23437881, -0.1418959 ,  0.04517257],\n",
       "       [ 0.23911077, -0.00696447,  0.19204089],\n",
       "       [-0.15265082, -0.29751283, -0.04785737],\n",
       "       [-0.1783083 , -0.10764614, -0.0310116 ],\n",
       "       [ 0.05470038, -0.1867103 , -0.04862949],\n",
       "       [ 0.04421047, -0.13197011, -0.04509549],\n",
       "       [-0.03856092, -0.13868965,  0.02301162],\n",
       "       [-0.06091847, -0.13377137, -0.01111682],\n",
       "       [ 0.12072262, -0.16217902,  0.00486396],\n",
       "       [-0.09577732, -0.18524267, -0.01473925],\n",
       "       [ 0.07168329, -0.03600837,  0.02624574],\n",
       "       [-0.0169607 , -0.10595311,  0.11962226],\n",
       "       [ 0.09756945, -0.1167755 ,  0.01526767],\n",
       "       [ 0.13635744, -0.15756944,  0.0907129 ],\n",
       "       [ 0.12781844, -0.19583702, -0.06709208],\n",
       "       [ 0.22828174, -0.09519684,  0.10486409],\n",
       "       [ 0.08293086, -0.11191024, -0.08362219],\n",
       "       [ 0.12623301, -0.14453809,  0.18422869],\n",
       "       [ 0.24340439, -0.04268895,  0.21616498],\n",
       "       [ 0.27081513, -0.06441011,  0.0973237 ],\n",
       "       [-0.12033357, -0.11191267,  0.04186937],\n",
       "       [-0.04929313, -0.19099897, -0.023576  ],\n",
       "       [ 0.11534701, -0.13178073,  0.1004481 ],\n",
       "       [-0.17711556, -0.23164584, -0.06454562],\n",
       "       [ 0.08223184, -0.13459376, -0.03095887],\n",
       "       [ 0.13153243, -0.18805285,  0.07167301],\n",
       "       [ 0.20180435, -0.04615332,  0.06493467],\n",
       "       [ 0.00951917, -0.1028152 ,  0.10026062],\n",
       "       [ 0.2222317 , -0.14323598,  0.08867627],\n",
       "       [ 0.03988992, -0.01272902,  0.22114807],\n",
       "       [ 0.0431062 , -0.15224276,  0.12283672],\n",
       "       [ 0.18665041,  0.08369446,  0.21467683],\n",
       "       [ 0.1855668 , -0.10525863,  0.03759471],\n",
       "       [ 0.12372847, -0.13598455,  0.00592729],\n",
       "       [-0.11361866, -0.21094546,  0.00366969],\n",
       "       [ 0.06259555, -0.16250817,  0.10890248],\n",
       "       [-0.10109191, -0.05950171,  0.03418258],\n",
       "       [ 0.13489631, -0.12049896,  0.06434973]], dtype=float32)"
      ]
     },
     "execution_count": 68,
     "metadata": {},
     "output_type": "execute_result"
    }
   ],
   "source": [
    "predict"
   ]
  }
 ],
 "metadata": {
  "kernelspec": {
   "display_name": "Python 3",
   "language": "python",
   "name": "python3"
  },
  "language_info": {
   "codemirror_mode": {
    "name": "ipython",
    "version": 3
   },
   "file_extension": ".py",
   "mimetype": "text/x-python",
   "name": "python",
   "nbconvert_exporter": "python",
   "pygments_lexer": "ipython3",
   "version": "3.6.8"
  },
  "toc": {
   "base_numbering": 1,
   "nav_menu": {},
   "number_sections": false,
   "sideBar": true,
   "skip_h1_title": false,
   "title_cell": "Table of Contents",
   "title_sidebar": "Contents",
   "toc_cell": false,
   "toc_position": {},
   "toc_section_display": true,
   "toc_window_display": false
  },
  "varInspector": {
   "cols": {
    "lenName": 16,
    "lenType": 16,
    "lenVar": 40
   },
   "kernels_config": {
    "python": {
     "delete_cmd_postfix": "",
     "delete_cmd_prefix": "del ",
     "library": "var_list.py",
     "varRefreshCmd": "print(var_dic_list())"
    },
    "r": {
     "delete_cmd_postfix": ") ",
     "delete_cmd_prefix": "rm(",
     "library": "var_list.r",
     "varRefreshCmd": "cat(var_dic_list()) "
    }
   },
   "types_to_exclude": [
    "module",
    "function",
    "builtin_function_or_method",
    "instance",
    "_Feature"
   ],
   "window_display": false
  }
 },
 "nbformat": 4,
 "nbformat_minor": 2
}
